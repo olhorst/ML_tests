{
 "cells": [
  {
   "cell_type": "code",
   "execution_count": 1,
   "metadata": {},
   "outputs": [],
   "source": [
    "import numpy as np\n",
    "import scipy.linalg as la\n",
    "import itertools as it\n",
    "import time\n",
    "import pylab as pl\n",
    "from mpl_toolkits.mplot3d import Axes3D\n",
    "import matplotlib.pyplot as plt\n",
    "import math #ToDo: allowed for exp??\n"
   ]
  },
  {
   "cell_type": "code",
   "execution_count": 2,
   "metadata": {},
   "outputs": [],
   "source": [
    "def noisysincfunction(N, noise):\n",
    "    X = np.sort(2 * np.pi * np.random.rand(1, N) ) - np.pi\n",
    "    Y = np.sinc(X) + noise * np.random.randn(1, N)\n",
    "    return X.reshape(-1, 1), Y.flatten()"
   ]
  },
  {
   "cell_type": "code",
   "execution_count": 3,
   "metadata": {},
   "outputs": [],
   "source": [
    "Xtr, Ytr = noisysincfunction(100, 0.1)\n",
    "Xte = np.arange( -np.pi, np.pi, 0.01 ).reshape(-1, 1)"
   ]
  },
  {
   "cell_type": "code",
   "execution_count": 4,
   "metadata": {},
   "outputs": [
    {
     "data": {
      "text/plain": [
       "[<matplotlib.lines.Line2D at 0x7fba29724eb8>]"
      ]
     },
     "execution_count": 4,
     "metadata": {},
     "output_type": "execute_result"
    },
    {
     "data": {
      "image/png": "[encoded data removed]",
      "text/plain": [
       "<Figure size 432x288 with 1 Axes>"
      ]
     },
     "metadata": {
      "needs_background": "light"
     },
     "output_type": "display_data"
    }
   ],
   "source": [
    "plt.plot(Xtr, Ytr)"
   ]
  },
  {
   "cell_type": "code",
   "execution_count": 5,
   "metadata": {},
   "outputs": [
    {
     "ename": "NameError",
     "evalue": "name 'zero_one_loss' is not defined",
     "output_type": "error",
     "traceback": [
      "\u001b[0;31m---------------------------------------------------------------------------\u001b[0m",
      "\u001b[0;31mNameError\u001b[0m                                 Traceback (most recent call last)",
      "\u001b[0;32m<ipython-input-5-6a37c61c38ea>\u001b[0m in \u001b[0;36m<module>\u001b[0;34m\u001b[0m\n\u001b[0;32m----> 1\u001b[0;31m \u001b[0;32mdef\u001b[0m \u001b[0mcv\u001b[0m\u001b[0;34m(\u001b[0m\u001b[0mX\u001b[0m\u001b[0;34m,\u001b[0m \u001b[0my\u001b[0m\u001b[0;34m,\u001b[0m \u001b[0mmethod\u001b[0m\u001b[0;34m,\u001b[0m \u001b[0mparams\u001b[0m\u001b[0;34m,\u001b[0m \u001b[0mloss_function\u001b[0m\u001b[0;34m=\u001b[0m\u001b[0mzero_one_loss\u001b[0m\u001b[0;34m,\u001b[0m \u001b[0mnfolds\u001b[0m\u001b[0;34m=\u001b[0m\u001b[0;36m10\u001b[0m\u001b[0;34m,\u001b[0m \u001b[0mnrepetitions\u001b[0m\u001b[0;34m=\u001b[0m\u001b[0;36m5\u001b[0m\u001b[0;34m)\u001b[0m\u001b[0;34m:\u001b[0m\u001b[0;34m\u001b[0m\u001b[0;34m\u001b[0m\u001b[0m\n\u001b[0m\u001b[1;32m      2\u001b[0m     ''' your header here!\n\u001b[1;32m      3\u001b[0m     '''\n\u001b[1;32m      4\u001b[0m     \u001b[0;32mreturn\u001b[0m \u001b[0mmethod\u001b[0m\u001b[0;34m\u001b[0m\u001b[0;34m\u001b[0m\u001b[0m\n",
      "\u001b[0;31mNameError\u001b[0m: name 'zero_one_loss' is not defined"
     ]
    }
   ],
   "source": [
    "def cv(X, y, method, params, loss_function=zero_one_loss, nfolds=10, nrepetitions=5):\n",
    "    ''' your header here!\n",
    "    '''\n",
    "    return method"
   ]
  },
  {
   "cell_type": "code",
   "execution_count": 120,
   "metadata": {},
   "outputs": [
    {
     "data": {
      "text/plain": [
       "array([[  4,   9,  16],\n",
       "       [  9,  25,  49],\n",
       "       [ 16,  49, 100]])"
      ]
     },
     "execution_count": 120,
     "metadata": {},
     "output_type": "execute_result"
    }
   ],
   "source": [
    "b = np.array([[1],[2],[3]])\n",
    "c = np.array([4,5,6])\n",
    "(b*b.T+1)**2"
   ]
  },
  {
   "cell_type": "code",
   "execution_count": 121,
   "metadata": {},
   "outputs": [
    {
     "data": {
      "text/plain": [
       "array([[  4,   9,  16],\n",
       "       [  9,  25,  49],\n",
       "       [ 16,  49, 100]])"
      ]
     },
     "execution_count": 121,
     "metadata": {},
     "output_type": "execute_result"
    }
   ],
   "source": [
    "(b.T*b+1)**2"
   ]
  },
  {
   "cell_type": "code",
   "execution_count": 349,
   "metadata": {},
   "outputs": [],
   "source": [
    "class krr():\n",
    "    ''' your header here!\n",
    "    '''\n",
    "    def __init__(self, kernel='linear', kernelparameter=1, regularization=1):\n",
    "        self.kernel = kernel\n",
    "        self.kernelparameter = kernelparameter\n",
    "        self.regularization = regularization\n",
    "\n",
    "    def getTrainK(self, X, kernel, kernelparam=1.):\n",
    "        if kernel == 'linear':\n",
    "            return X.T*X\n",
    "        if kernel == 'polynomial':\n",
    "            return (X.T*X+1)**kernelparam\n",
    "        if kernel == 'gaussian':\n",
    "            return (np.exp(-1*((X.T-X)**2)/2*kernelparam**2))\n",
    "            pass\n",
    "        print(\"dafuq\")\n",
    "        pass\n",
    "    \n",
    "    def getPredK(self, X, kernel, kernelparam=1.):\n",
    "        if kernel == 'linear':\n",
    "            return self.trainX.T*X\n",
    "        if kernel == 'polynomial':\n",
    "            return (self.trainX.T*X+1)**kernelparam\n",
    "        if kernel == 'gaussian':\n",
    "            return (np.exp(-1*((self.trainX.T-X)**2)/2*kernelparam**2))\n",
    "            pass\n",
    "        print(\"dafuq\")\n",
    "        pass\n",
    "\n",
    "    def fit(self, X, y, kernel=False, kernelparameter=False, regularization=False):\n",
    "        ''' your header here!\n",
    "        '''\n",
    "        if kernel is not False:\n",
    "            self.kernel = kernel\n",
    "        if kernelparameter is not False:\n",
    "            self.kernelparameter = kernelparameter\n",
    "        if regularization is not False:\n",
    "            self.regularization = regularization\n",
    "        self.trainX = X\n",
    "        self.alpha = np.linalg.inv(self.getTrainK(X, self.kernel, self.kernelparameter)+self.regularization*np.eye(len(X)))@y\n",
    "        return self\n",
    "\n",
    "    def predict(self, X):\n",
    "        self.m = np.sum(self.alpha*self.getPredK(X, self.kernel, self.kernelparameter),axis=1)\n",
    "        return self.m"
   ]
  },
  {
   "cell_type": "code",
   "execution_count": 350,
   "metadata": {},
   "outputs": [],
   "source": [
    "test = krr(kernel = 'gaussian', kernelparameter=3) #8 for polynomial"
   ]
  },
  {
   "cell_type": "code",
   "execution_count": 351,
   "metadata": {
    "scrolled": true
   },
   "outputs": [],
   "source": [
    "a = test.fit(X=Xtr, y=Ytr)"
   ]
  },
  {
   "cell_type": "code",
   "execution_count": 352,
   "metadata": {},
   "outputs": [
    {
     "data": {
      "text/plain": [
       "[<matplotlib.lines.Line2D at 0x7fba1cb4c6d8>]"
      ]
     },
     "execution_count": 352,
     "metadata": {},
     "output_type": "execute_result"
    },
    {
     "data": {
      "image/png": "[encoded data removed]",
      "text/plain": [
       "<Figure size 432x288 with 1 Axes>"
      ]
     },
     "metadata": {
      "needs_background": "light"
     },
     "output_type": "display_data"
    }
   ],
   "source": [
    "plt.plot(a.predict(Xte))"
   ]
  },
  {
   "cell_type": "code",
   "execution_count": 311,
   "metadata": {},
   "outputs": [
    {
     "data": {
      "text/plain": [
       "array([ 3.54360023e-03,  3.86337938e-02, -4.13816774e-02,  6.30704148e-02,\n",
       "       -9.24554504e-02,  9.39072556e-02, -3.07169052e-02, -3.49355809e-02,\n",
       "        8.19271278e-02,  1.58844656e-01, -9.55469848e-02, -3.03864200e-02,\n",
       "        5.30190544e-02, -1.98334807e-02,  7.13218952e-02, -1.25450990e-01,\n",
       "        1.27675482e-03, -6.90112157e-02,  4.38386980e-03,  1.35024287e-02,\n",
       "       -4.71783205e-02,  1.40221266e-01,  2.80182222e-02, -2.54157865e-01,\n",
       "       -2.98929815e-02,  9.01138922e-02,  4.32326808e-02, -1.66956284e-01,\n",
       "       -2.89049737e-03,  1.34608127e-01, -1.39958109e-01, -4.41343882e-02,\n",
       "        7.39072725e-02, -1.58257680e-01,  2.39013252e-01, -1.23103582e-01,\n",
       "        2.93861739e-02,  1.58516657e-01, -1.88856723e-02, -7.05116384e-02,\n",
       "        7.73271314e-02, -1.00398005e-01, -6.09125217e-03,  2.35018384e-02,\n",
       "       -4.60262503e-02,  9.19222145e-03,  6.07245930e-02,  1.50228159e-01,\n",
       "       -4.60919583e-02,  2.68305672e-01, -8.07398797e-03,  1.42297638e-01,\n",
       "        1.11086900e-01,  1.20549231e-01,  1.37686826e-01,  2.35202721e-01,\n",
       "        3.16854371e-02, -2.86987200e-02,  8.87827191e-02,  8.34482903e-02,\n",
       "       -3.47518424e-02,  3.29395467e-02,  4.13593498e-02,  1.76233868e-02,\n",
       "        1.18250105e-01, -4.94398376e-02, -9.98068848e-02, -4.44157091e-02,\n",
       "        9.70242244e-03, -1.90014675e-01,  1.31862589e-01, -6.21311714e-02,\n",
       "        7.33860043e-02, -1.18103189e-01,  1.09903586e-01, -5.04689525e-02,\n",
       "        4.86380409e-02, -2.77537741e-02, -9.42687948e-02,  7.45341201e-02,\n",
       "       -4.27688030e-02,  4.14142684e-02,  2.11201880e-04,  1.19137331e-01,\n",
       "       -1.55554550e-01,  1.23188129e-01, -5.44770599e-02,  3.15438425e-02,\n",
       "       -2.18619411e-02,  1.07972159e-01,  4.15661657e-02, -1.28043562e-01,\n",
       "       -2.55057722e-02,  1.26404020e-01,  1.26320034e-01, -3.65389401e-02,\n",
       "       -1.19812028e-01, -5.25962862e-02, -7.31127185e-02,  1.68336997e-02])"
      ]
     },
     "execution_count": 311,
     "metadata": {},
     "output_type": "execute_result"
    }
   ],
   "source": [
    "a.alpha"
   ]
  },
  {
   "cell_type": "code",
   "execution_count": 248,
   "metadata": {},
   "outputs": [
    {
     "data": {
      "text/plain": [
       "array([[153.23839292, 174.69682028, 111.230549  , ...,  -0.27256114,\n",
       "         12.7463705 , -51.94373928],\n",
       "       [151.93572392, 173.21346997, 110.28619141, ...,  -0.26966998,\n",
       "         12.61120171, -51.39347337],\n",
       "       [150.64045852, 171.73854026, 109.34719413, ...,  -0.26679934,\n",
       "         12.47699192, -50.8471074 ],\n",
       "       ...,\n",
       "       [-72.41550965, -81.89502235, -52.10479868, ...,   0.49648735,\n",
       "        -23.18375786,  93.94251094],\n",
       "       [-73.21098785, -82.79599417, -52.67811125, ...,   0.5008275 ,\n",
       "        -23.38646901,  94.76461679],\n",
       "       [-74.01227033, -83.70354993, -53.25561393, ...,   0.50519287,\n",
       "        -23.59035835,  95.59150496]])"
      ]
     },
     "execution_count": 248,
     "metadata": {},
     "output_type": "execute_result"
    }
   ],
   "source": []
  },
  {
   "cell_type": "code",
   "execution_count": 96,
   "metadata": {},
   "outputs": [
    {
     "name": "stdout",
     "output_type": "stream",
     "text": [
      "(100,)\n",
      "(629, 629)\n"
     ]
    },
    {
     "ename": "ValueError",
     "evalue": "matmul: Input operand 1 has a mismatch in its core dimension 0, with gufunc signature (n?,k),(k,m?)->(n?,m?) (size 629 is different from 100)",
     "output_type": "error",
     "traceback": [
      "\u001b[0;31m---------------------------------------------------------------------------\u001b[0m",
      "\u001b[0;31mValueError\u001b[0m                                Traceback (most recent call last)",
      "\u001b[0;32m<ipython-input-96-fb511dc1444f>\u001b[0m in \u001b[0;36m<module>\u001b[0;34m\u001b[0m\n\u001b[0;32m----> 1\u001b[0;31m \u001b[0ma\u001b[0m\u001b[0;34m.\u001b[0m\u001b[0mpredict\u001b[0m\u001b[0;34m(\u001b[0m\u001b[0mXte\u001b[0m\u001b[0;34m)\u001b[0m\u001b[0;34m\u001b[0m\u001b[0;34m\u001b[0m\u001b[0m\n\u001b[0m",
      "\u001b[0;32m<ipython-input-92-2bee84dd51be>\u001b[0m in \u001b[0;36mpredict\u001b[0;34m(self, X)\u001b[0m\n\u001b[1;32m     35\u001b[0m         \u001b[0mprint\u001b[0m\u001b[0;34m(\u001b[0m\u001b[0mself\u001b[0m\u001b[0;34m.\u001b[0m\u001b[0malpha\u001b[0m\u001b[0;34m.\u001b[0m\u001b[0mshape\u001b[0m\u001b[0;34m)\u001b[0m\u001b[0;34m\u001b[0m\u001b[0;34m\u001b[0m\u001b[0m\n\u001b[1;32m     36\u001b[0m         \u001b[0mprint\u001b[0m\u001b[0;34m(\u001b[0m\u001b[0mself\u001b[0m\u001b[0;34m.\u001b[0m\u001b[0mgetK\u001b[0m\u001b[0;34m(\u001b[0m\u001b[0mX\u001b[0m\u001b[0;34m,\u001b[0m \u001b[0mself\u001b[0m\u001b[0;34m.\u001b[0m\u001b[0mkernel\u001b[0m\u001b[0;34m,\u001b[0m \u001b[0mself\u001b[0m\u001b[0;34m.\u001b[0m\u001b[0mkernelparameter\u001b[0m\u001b[0;34m)\u001b[0m\u001b[0;34m.\u001b[0m\u001b[0mshape\u001b[0m\u001b[0;34m)\u001b[0m\u001b[0;34m\u001b[0m\u001b[0;34m\u001b[0m\u001b[0m\n\u001b[0;32m---> 37\u001b[0;31m         \u001b[0mself\u001b[0m\u001b[0;34m.\u001b[0m\u001b[0mm\u001b[0m \u001b[0;34m=\u001b[0m \u001b[0mself\u001b[0m\u001b[0;34m.\u001b[0m\u001b[0malpha\u001b[0m\u001b[0;34m@\u001b[0m\u001b[0mself\u001b[0m\u001b[0;34m.\u001b[0m\u001b[0mgetK\u001b[0m\u001b[0;34m(\u001b[0m\u001b[0mX\u001b[0m\u001b[0;34m,\u001b[0m \u001b[0mself\u001b[0m\u001b[0;34m.\u001b[0m\u001b[0mkernel\u001b[0m\u001b[0;34m,\u001b[0m \u001b[0mself\u001b[0m\u001b[0;34m.\u001b[0m\u001b[0mkernelparameter\u001b[0m\u001b[0;34m)\u001b[0m\u001b[0;34m\u001b[0m\u001b[0;34m\u001b[0m\u001b[0m\n\u001b[0m\u001b[1;32m     38\u001b[0m         \u001b[0mprint\u001b[0m\u001b[0;34m(\u001b[0m\u001b[0mm\u001b[0m\u001b[0;34m)\u001b[0m\u001b[0;34m\u001b[0m\u001b[0;34m\u001b[0m\u001b[0m\n\u001b[1;32m     39\u001b[0m         \u001b[0;32mreturn\u001b[0m \u001b[0mself\u001b[0m\u001b[0;34m\u001b[0m\u001b[0;34m\u001b[0m\u001b[0m\n",
      "\u001b[0;31mValueError\u001b[0m: matmul: Input operand 1 has a mismatch in its core dimension 0, with gufunc signature (n?,k),(k,m?)->(n?,m?) (size 629 is different from 100)"
     ]
    }
   ],
   "source": [
    "a.predict(Xte)"
   ]
  },
  {
   "cell_type": "code",
   "execution_count": 149,
   "metadata": {},
   "outputs": [
    {
     "data": {
      "text/plain": [
       "9.468079765807724"
      ]
     },
     "execution_count": 149,
     "metadata": {},
     "output_type": "execute_result"
    }
   ],
   "source": [
    "np.sum(getK(X=np.array([[-1.5]]), kernel='polynomial', kernelparam=3.)*w)"
   ]
  },
  {
   "cell_type": "code",
   "execution_count": 144,
   "metadata": {},
   "outputs": [
    {
     "data": {
      "text/plain": [
       "[<matplotlib.lines.Line2D at 0x7fba1da79fd0>]"
      ]
     },
     "execution_count": 144,
     "metadata": {},
     "output_type": "execute_result"
    },
    {
     "data": {
      "image/png": "[encoded data removed]",
      "text/plain": [
       "<Figure size 432x288 with 1 Axes>"
      ]
     },
     "metadata": {
      "needs_background": "light"
     },
     "output_type": "display_data"
    }
   ],
   "source": [
    "plt.scatter(Xtr, Ytr)\n",
    "plt.plot(Xtr, (w*Xtr.flatten()))\n",
    "plt.plot(Xtr, (act_w*Xtr.flatten()))"
   ]
  },
  {
   "cell_type": "code",
   "execution_count": 29,
   "metadata": {},
   "outputs": [
    {
     "ename": "ValueError",
     "evalue": "matmul: Input operand 1 has a mismatch in its core dimension 0, with gufunc signature (n?,k),(k,m?)->(n?,m?) (size 629 is different from 100)",
     "output_type": "error",
     "traceback": [
      "\u001b[0;31m---------------------------------------------------------------------------\u001b[0m",
      "\u001b[0;31mValueError\u001b[0m                                Traceback (most recent call last)",
      "\u001b[0;32m<ipython-input-29-2871f66b6ba4>\u001b[0m in \u001b[0;36m<module>\u001b[0;34m\u001b[0m\n\u001b[0;32m----> 1\u001b[0;31m \u001b[0ma\u001b[0m\u001b[0;34m.\u001b[0m\u001b[0mpredict\u001b[0m\u001b[0;34m(\u001b[0m\u001b[0mXte\u001b[0m\u001b[0;34m.\u001b[0m\u001b[0mT\u001b[0m\u001b[0;34m)\u001b[0m\u001b[0;34m\u001b[0m\u001b[0;34m\u001b[0m\u001b[0m\n\u001b[0m",
      "\u001b[0;32m<ipython-input-10-8ca0e4bda3cc>\u001b[0m in \u001b[0;36mpredict\u001b[0;34m(self, X)\u001b[0m\n\u001b[1;32m     33\u001b[0m \u001b[0;34m\u001b[0m\u001b[0m\n\u001b[1;32m     34\u001b[0m     \u001b[0;32mdef\u001b[0m \u001b[0mpredict\u001b[0m\u001b[0;34m(\u001b[0m\u001b[0mself\u001b[0m\u001b[0;34m,\u001b[0m \u001b[0mX\u001b[0m\u001b[0;34m)\u001b[0m\u001b[0;34m:\u001b[0m\u001b[0;34m\u001b[0m\u001b[0;34m\u001b[0m\u001b[0m\n\u001b[0;32m---> 35\u001b[0;31m         \u001b[0mself\u001b[0m\u001b[0;34m.\u001b[0m\u001b[0mm\u001b[0m \u001b[0;34m=\u001b[0m \u001b[0mself\u001b[0m\u001b[0;34m.\u001b[0m\u001b[0malpha\u001b[0m\u001b[0;34m@\u001b[0m\u001b[0mself\u001b[0m\u001b[0;34m.\u001b[0m\u001b[0mgetK\u001b[0m\u001b[0;34m(\u001b[0m\u001b[0mX\u001b[0m\u001b[0;34m,\u001b[0m \u001b[0mself\u001b[0m\u001b[0;34m.\u001b[0m\u001b[0mkernel\u001b[0m\u001b[0;34m,\u001b[0m \u001b[0mself\u001b[0m\u001b[0;34m.\u001b[0m\u001b[0mkernelparameter\u001b[0m\u001b[0;34m)\u001b[0m\u001b[0;34m\u001b[0m\u001b[0;34m\u001b[0m\u001b[0m\n\u001b[0m\u001b[1;32m     36\u001b[0m         \u001b[0mprint\u001b[0m\u001b[0;34m(\u001b[0m\u001b[0mm\u001b[0m\u001b[0;34m)\u001b[0m\u001b[0;34m\u001b[0m\u001b[0;34m\u001b[0m\u001b[0m\n\u001b[1;32m     37\u001b[0m         \u001b[0;32mreturn\u001b[0m \u001b[0mself\u001b[0m\u001b[0;34m\u001b[0m\u001b[0;34m\u001b[0m\u001b[0m\n",
      "\u001b[0;31mValueError\u001b[0m: matmul: Input operand 1 has a mismatch in its core dimension 0, with gufunc signature (n?,k),(k,m?)->(n?,m?) (size 629 is different from 100)"
     ]
    }
   ],
   "source": [
    "a.predict(Xte)"
   ]
  },
  {
   "cell_type": "code",
   "execution_count": 268,
   "metadata": {},
   "outputs": [],
   "source": [
    "import sklearn\n",
    "from sklearn.kernel_ridge import KernelRidge\n",
    "import numpy as np\n",
    "clf = KernelRidge(kernel='gaussian', alpha=1.0, degree=5)"
   ]
  },
  {
   "cell_type": "code",
   "execution_count": 269,
   "metadata": {},
   "outputs": [
    {
     "data": {
      "text/plain": [
       "KernelRidge(alpha=1.0, degree=5, kernel='polynomial')"
      ]
     },
     "execution_count": 269,
     "metadata": {},
     "output_type": "execute_result"
    }
   ],
   "source": [
    "clf.fit(Xtr, Ytr)"
   ]
  },
  {
   "cell_type": "code",
   "execution_count": 270,
   "metadata": {},
   "outputs": [
    {
     "data": {
      "text/plain": [
       "[<matplotlib.lines.Line2D at 0x7fba1d3b8860>]"
      ]
     },
     "execution_count": 270,
     "metadata": {},
     "output_type": "execute_result"
    },
    {
     "data": {
      "image/png": "[encoded data removed]",
      "text/plain": [
       "<Figure size 432x288 with 1 Axes>"
      ]
     },
     "metadata": {
      "needs_background": "light"
     },
     "output_type": "display_data"
    }
   ],
   "source": [
    "plt.plot(clf.predict(Xte))"
   ]
  },
  {
   "cell_type": "code",
   "execution_count": 217,
   "metadata": {},
   "outputs": [],
   "source": [
    "act_w = clf.dual_coef_"
   ]
  },
  {
   "cell_type": "code",
   "execution_count": 225,
   "metadata": {},
   "outputs": [],
   "source": [
    "act_pred = clf.predict(Xte)"
   ]
  },
  {
   "cell_type": "code",
   "execution_count": 317,
   "metadata": {},
   "outputs": [
    {
     "data": {
      "text/plain": [
       "{'additive_chi2': <function sklearn.metrics.pairwise.additive_chi2_kernel(X, Y=None)>,\n",
       " 'chi2': <function sklearn.metrics.pairwise.chi2_kernel(X, Y=None, gamma=1.0)>,\n",
       " 'linear': <function sklearn.metrics.pairwise.linear_kernel(X, Y=None, dense_output=True)>,\n",
       " 'polynomial': <function sklearn.metrics.pairwise.polynomial_kernel(X, Y=None, degree=3, gamma=None, coef0=1)>,\n",
       " 'poly': <function sklearn.metrics.pairwise.polynomial_kernel(X, Y=None, degree=3, gamma=None, coef0=1)>,\n",
       " 'rbf': <function sklearn.metrics.pairwise.rbf_kernel(X, Y=None, gamma=None)>,\n",
       " 'laplacian': <function sklearn.metrics.pairwise.laplacian_kernel(X, Y=None, gamma=None)>,\n",
       " 'sigmoid': <function sklearn.metrics.pairwise.sigmoid_kernel(X, Y=None, gamma=None, coef0=1)>,\n",
       " 'cosine': <function sklearn.metrics.pairwise.cosine_similarity(X, Y=None, dense_output=True)>}"
      ]
     },
     "execution_count": 317,
     "metadata": {},
     "output_type": "execute_result"
    }
   ],
   "source": [
    "sklearn.metrics.pairwise.PAIRWISE_KERNEL_FUNCTIONS"
   ]
  },
  {
   "cell_type": "code",
   "execution_count": 202,
   "metadata": {},
   "outputs": [],
   "source": [
    "import os"
   ]
  },
  {
   "cell_type": "code",
   "execution_count": null,
   "metadata": {},
   "outputs": [],
   "source": []
  }
 ],
 "metadata": {
  "kernelspec": {
   "display_name": "Python 3",
   "language": "python",
   "name": "python3"
  },
  "language_info": {
   "codemirror_mode": {
    "name": "ipython",
    "version": 3
   },
   "file_extension": ".py",
   "mimetype": "text/x-python",
   "name": "python",
   "nbconvert_exporter": "python",
   "pygments_lexer": "ipython3",
   "version": "3.6.9"
  }
 },
 "nbformat": 4,
 "nbformat_minor": 4
}
