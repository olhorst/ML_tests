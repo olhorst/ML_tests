{
 "cells": [
  {
   "cell_type": "code",
   "execution_count": 27,
   "metadata": {},
   "outputs": [],
   "source": [
    "import numpy as np\n",
    "import scipy.linalg as la\n",
    "import itertools as it\n",
    "import time\n",
    "import pylab as pl\n",
    "from mpl_toolkits.mplot3d import Axes3D\n",
    "import matplotlib.pyplot as plt\n",
    "import math #ToDo: allowed for exp??\n",
    "from scipy.spatial import distance\n"
   ]
  },
  {
   "cell_type": "code",
   "execution_count": null,
   "metadata": {},
   "outputs": [],
   "source": []
  },
  {
   "cell_type": "code",
   "execution_count": 4,
   "metadata": {},
   "outputs": [],
   "source": [
    "def noisysincfunction(N, noise):\n",
    "    X = np.sort(2 * np.pi * np.random.rand(1, N) ) - np.pi\n",
    "    Y = np.sinc(X) + noise * np.random.randn(1, N)\n",
    "    return X.reshape(-1, 1), Y.flatten()\n",
    "Xtr, Ytr = noisysincfunction(100, 0.1)\n",
    "Xte = np.arange( -np.pi, np.pi, 0.01 ).reshape(-1, 1)"
   ]
  },
  {
   "cell_type": "code",
   "execution_count": 5,
   "metadata": {},
   "outputs": [
    {
     "data": {
      "text/plain": [
       "[<matplotlib.lines.Line2D at 0x7fb659f22cf8>]"
      ]
     },
     "execution_count": 5,
     "metadata": {},
     "output_type": "execute_result"
    },
    {
     "data": {
      "image/png": "[encoded data removed]",
      "text/plain": [
       "<Figure size 432x288 with 1 Axes>"
      ]
     },
     "metadata": {
      "needs_background": "light"
     },
     "output_type": "display_data"
    }
   ],
   "source": [
    "plt.plot(Xtr, Ytr)"
   ]
  },
  {
   "cell_type": "code",
   "execution_count": 6,
   "metadata": {},
   "outputs": [
    {
     "ename": "NameError",
     "evalue": "name 'zero_one_loss' is not defined",
     "output_type": "error",
     "traceback": [
      "\u001b[0;31m---------------------------------------------------------------------------\u001b[0m",
      "\u001b[0;31mNameError\u001b[0m                                 Traceback (most recent call last)",
      "\u001b[0;32m<ipython-input-6-6a37c61c38ea>\u001b[0m in \u001b[0;36m<module>\u001b[0;34m\u001b[0m\n\u001b[0;32m----> 1\u001b[0;31m \u001b[0;32mdef\u001b[0m \u001b[0mcv\u001b[0m\u001b[0;34m(\u001b[0m\u001b[0mX\u001b[0m\u001b[0;34m,\u001b[0m \u001b[0my\u001b[0m\u001b[0;34m,\u001b[0m \u001b[0mmethod\u001b[0m\u001b[0;34m,\u001b[0m \u001b[0mparams\u001b[0m\u001b[0;34m,\u001b[0m \u001b[0mloss_function\u001b[0m\u001b[0;34m=\u001b[0m\u001b[0mzero_one_loss\u001b[0m\u001b[0;34m,\u001b[0m \u001b[0mnfolds\u001b[0m\u001b[0;34m=\u001b[0m\u001b[0;36m10\u001b[0m\u001b[0;34m,\u001b[0m \u001b[0mnrepetitions\u001b[0m\u001b[0;34m=\u001b[0m\u001b[0;36m5\u001b[0m\u001b[0;34m)\u001b[0m\u001b[0;34m:\u001b[0m\u001b[0;34m\u001b[0m\u001b[0;34m\u001b[0m\u001b[0m\n\u001b[0m\u001b[1;32m      2\u001b[0m     ''' your header here!\n\u001b[1;32m      3\u001b[0m     '''\n\u001b[1;32m      4\u001b[0m     \u001b[0;32mreturn\u001b[0m \u001b[0mmethod\u001b[0m\u001b[0;34m\u001b[0m\u001b[0;34m\u001b[0m\u001b[0m\n",
      "\u001b[0;31mNameError\u001b[0m: name 'zero_one_loss' is not defined"
     ]
    }
   ],
   "source": [
    "def cv(X, y, method, params, loss_function=zero_one_loss, nfolds=10, nrepetitions=5):\n",
    "    ''' your header here!\n",
    "    '''\n",
    "    return method"
   ]
  },
  {
   "cell_type": "code",
   "execution_count": null,
   "metadata": {},
   "outputs": [],
   "source": []
  },
  {
   "cell_type": "markdown",
   "metadata": {},
   "source": [
    "# KRR"
   ]
  },
  {
   "cell_type": "code",
   "execution_count": 106,
   "metadata": {},
   "outputs": [],
   "source": [
    "class krr():\n",
    "    ''' your header here!\n",
    "    '''\n",
    "    def __init__(self, kernel='linear', kernelparameter=1, regularization=1):\n",
    "        self.kernel = kernel\n",
    "        self.kernelparameter = kernelparameter\n",
    "        self.regularization = regularization\n",
    "\n",
    "    def getTrainK(self, X, kernel, kernelparam=1.):\n",
    "        if kernel == 'linear':\n",
    "            return X@X.T\n",
    "        if kernel == 'polynomial':\n",
    "            return (X@X.T+1)**kernelparam\n",
    "        if kernel == 'gaussianCdist':\n",
    "            dist = distance.cdist(X, X, 'euclidean')\n",
    "            return (np.exp(-1*((dist)**2)/(2 * np.square(kernelparam))))\n",
    "        if kernel == 'gaussian':\n",
    "            dist = (-2 * X @ X.T + (np.sum(X ** 2, axis=1) + np.sum(X ** 2, axis=1)[:, np.newaxis]).T)**0.5\n",
    "            return (np.exp(-1*((dist)**2)/(2 * np.square(kernelparam))))            \n",
    "        pass\n",
    "    \n",
    "    def getPredK(self, X, kernel, kernelparam=1.):\n",
    "        if kernel == 'linear':\n",
    "            return X@self.trainX.T\n",
    "        if kernel == 'polynomial':\n",
    "            return (X@self.trainX.T+1)**kernelparam\n",
    "        if kernel == 'gaussianCdist':\n",
    "            dist = distance.cdist(X,self.trainX, 'euclidean')\n",
    "            return (np.exp(-1*(dist**2)/(2 * np.square(kernelparam))))\n",
    "        if kernel == 'gaussian':\n",
    "            dist = (-2 * X @ self.trainX.T + (np.sum(X ** 2, axis=1) + np.sum(self.trainX ** 2, axis=1)[:, np.newaxis]).T)**0.5\n",
    "            return (np.exp(-1*((dist)**2)/(2 * np.square(kernelparam)))) \n",
    "        pass\n",
    "    \n",
    "    #efficient leave one out cross validation\n",
    "    def eloocv(self, K, Y):\n",
    "        eigval, U = la.eig(K)\n",
    "        U = U.real\n",
    "        L = np.diag(eigval).real\n",
    "        UL = np.dot(U, L)\n",
    "\n",
    "        C3 = np.logspace(-5,5,100)\n",
    "        I3 = np.eye(len(L))\n",
    "        CI3 = np.einsum('ij,k->kij', I3, C3)\n",
    "\n",
    "        CI3L = CI3 + L\n",
    "        dt = np.dtype(np.float32)\n",
    "        apinv = list(map(lambda n: la.pinv(n), CI3L))\n",
    "        apinv = np.asarray(apinv,dtype=dt) \n",
    "\n",
    "        ULCI3 = np.einsum('lj,ijk->ilk',UL,apinv)\n",
    "        ULCI3UT = np.einsum('ikj,jl->ikl', ULCI3, U.T)\n",
    "        S = ULCI3UT\n",
    "        Sdiag = np.einsum('kii->ki', S)\n",
    "        err = np.mean(np.square((Y-np.dot(S, Y))*((1-Sdiag)**-1)), axis=1)\n",
    "        \n",
    "        return C3[np.where(err==min(err))]\n",
    "\n",
    "    def fit(self, X, y, kernel=False, kernelparameter=False, regularization=False):\n",
    "        ''' your header here!\n",
    "        '''\n",
    "        if kernel is not False:\n",
    "            self.kernel = kernel\n",
    "        if kernelparameter is not False:\n",
    "            self.kernelparameter = kernelparameter\n",
    "        if regularization is not False:\n",
    "            self.regularization = regularization\n",
    "        self.trainX = X\n",
    "        self.K = self.getTrainK(X, self.kernel, self.kernelparameter)\n",
    "        if self.regularization==0:\n",
    "            self.regularization = self.eloocv(self.K, y)\n",
    "        self.alpha = np.linalg.inv(self.K+self.regularization*np.eye(len(X)))@y\n",
    "        return self\n",
    "\n",
    "    def predict(self, X):\n",
    "        print(self.getPredK(X, self.kernel, self.kernelparameter).shape)\n",
    "        print(self.alpha.shape)\n",
    "        self.m = self.getPredK(X, self.kernel, self.kernelparameter)@self.alpha#,axis=1)\n",
    "        return self.m"
   ]
  },
  {
   "cell_type": "code",
   "execution_count": 107,
   "metadata": {
    "scrolled": true
   },
   "outputs": [
    {
     "name": "stdout",
     "output_type": "stream",
     "text": [
      "(629, 100)\n",
      "(100,)\n"
     ]
    },
    {
     "data": {
      "text/plain": [
       "[<matplotlib.lines.Line2D at 0x7fb64f677748>]"
      ]
     },
     "execution_count": 107,
     "metadata": {},
     "output_type": "execute_result"
    },
    {
     "data": {
      "image/png": "[encoded data removed]",
      "text/plain": [
       "<Figure size 432x288 with 1 Axes>"
      ]
     },
     "metadata": {
      "needs_background": "light"
     },
     "output_type": "display_data"
    }
   ],
   "source": [
    "test = krr(kernel = 'gaussianCdist', kernelparameter=.25, regularization=0) #8 for polynomial\n",
    "t = time.time()\n",
    "a = test.fit(X=Xtr, y=Ytr)\n",
    "#print(time.time()-t)\n",
    "plt.plot(Xte, a.predict(Xte))\n",
    "plt.plot(Xtr, Ytr)"
   ]
  },
  {
   "cell_type": "code",
   "execution_count": 109,
   "metadata": {},
   "outputs": [
    {
     "name": "stdout",
     "output_type": "stream",
     "text": [
      "(629, 100)\n",
      "(100,)\n"
     ]
    },
    {
     "data": {
      "text/plain": [
       "[<matplotlib.lines.Line2D at 0x7fb64f5ccd68>]"
      ]
     },
     "execution_count": 109,
     "metadata": {},
     "output_type": "execute_result"
    },
    {
     "data": {
      "image/png": "[encoded data removed]",
      "text/plain": [
       "<Figure size 432x288 with 1 Axes>"
      ]
     },
     "metadata": {
      "needs_background": "light"
     },
     "output_type": "display_data"
    }
   ],
   "source": [
    "test = krr(kernel = 'polynomial', kernelparameter=8, regularization=.5) #8 for polynomial\n",
    "a = test.fit(X=Xtr, y=Ytr)\n",
    "plt.plot(Xte, a.predict(Xte))\n",
    "plt.plot(Xtr, Ytr)"
   ]
  },
  {
   "cell_type": "code",
   "execution_count": 141,
   "metadata": {},
   "outputs": [],
   "source": [
    "\n",
    "banana_xtrain = np.loadtxt('data/U04_banana-xtrain.dat')\n",
    "banana_xtrain = banana_xtrain.T\n",
    "banana_ytrain = np.loadtxt('data/U04_banana-ytrain.dat')\n",
    "banana_ytrain = banana_ytrain.T\n",
    "banana_xtest = np.loadtxt('data/U04_banana-xtest.dat')\n",
    "banana_xtest = banana_xtest.T\n",
    "banana_ytest = np.loadtxt('data/U04_banana-ytest.dat')\n",
    "banana_ytest = banana_ytest.T"
   ]
  },
  {
   "cell_type": "code",
   "execution_count": 134,
   "metadata": {},
   "outputs": [
    {
     "data": {
      "text/plain": [
       "array([ 1., -1., -1., ...,  1., -1., -1.])"
      ]
     },
     "execution_count": 134,
     "metadata": {},
     "output_type": "execute_result"
    }
   ],
   "source": [
    "banana_ytest.T"
   ]
  },
  {
   "cell_type": "code",
   "execution_count": 143,
   "metadata": {},
   "outputs": [
    {
     "name": "stderr",
     "output_type": "stream",
     "text": [
      "/home/oliver/.local/lib/python3.6/site-packages/ipykernel_launcher.py:18: RuntimeWarning: invalid value encountered in sqrt\n"
     ]
    },
    {
     "data": {
      "text/plain": [
       "<matplotlib.collections.PathCollection at 0x7fb64d343550>"
      ]
     },
     "execution_count": 143,
     "metadata": {},
     "output_type": "execute_result"
    },
    {
     "data": {
      "image/png": "[encoded data removed]",
      "text/plain": [
       "<Figure size 432x288 with 1 Axes>"
      ]
     },
     "metadata": {
      "needs_background": "light"
     },
     "output_type": "display_data"
    }
   ],
   "source": [
    "test = krr(kernel = 'gaussian', kernelparameter=.25, regularization=.5) #8 for polynomial\n",
    "a = test.fit(X=banana_xtrain, y=banana_ytrain)\n",
    "#plt.plot(a.predict(banana_xtest))\n",
    "plt.scatter(banana_xtest.T[0], banana_xtest.T[1], (pred+1.9)**2)\n",
    "\n",
    "\n",
    "#plt.plot(Xtr, Ytr)\n",
    "#from mpl_toolkits.mplot3d import Axes3D\n",
    "#fig = plt.figure()\n",
    "#ax = fig.add_subplot(111, projection='3d') \n",
    "#pred = a.predict(banana_xtest)\n",
    "#ax.plot(banana_xtest.T[0, 0:100], banana_xtest.T[1, 0:100], banana_ytest[0:100])#pred)\n",
    "\n",
    "#ax.plot(banana_xtest.T[0, 0:100], banana_xtest.T[1, 0:100], pred[0:100])"
   ]
  },
  {
   "cell_type": "code",
   "execution_count": 148,
   "metadata": {},
   "outputs": [
    {
     "name": "stdout",
     "output_type": "stream",
     "text": [
      "0.0001\n",
      "0.00016102620275609394\n",
      "0.0002592943797404667\n",
      "0.00041753189365604\n",
      "0.0006723357536499335\n",
      "0.001082636733874054\n",
      "0.0017433288221999873\n",
      "0.0028072162039411755\n",
      "0.004520353656360241\n",
      "0.007278953843983146\n",
      "0.011721022975334805\n",
      "0.018873918221350976\n",
      "0.03039195382313198\n",
      "0.04893900918477494\n",
      "0.07880462815669913\n",
      "0.12689610031679222\n",
      "0.20433597178569418\n",
      "0.32903445623126676\n",
      "0.5298316906283708\n",
      "0.8531678524172805\n",
      "1.3738237958832638\n",
      "2.21221629107045\n",
      "3.562247890262444\n",
      "5.736152510448681\n",
      "9.236708571873866\n",
      "14.873521072935118\n",
      "23.95026619987486\n",
      "38.56620421163472\n",
      "62.10169418915616\n",
      "100.0\n"
     ]
    }
   ],
   "source": [
    "for i in np.logspace(-4,2,30):\n",
    "    print(i)\n"
   ]
  },
  {
   "cell_type": "code",
   "execution_count": 144,
   "metadata": {},
   "outputs": [],
   "source": [
    "def auc(y_true, y_pred, plot=False):\n",
    "    \"\"\"\n",
    "    Area Under Curve, also called \"c-statistic\" (\"concordance statistic\")\n",
    "\n",
    "    @param y_true: true labels, {-1,1}^n\n",
    "    @param y_pred: predicted value, [-1,1]\n",
    "    @param plot: boolean, when true plot the ROC curve\n",
    "    @return: Area Under Curve\n",
    "    \"\"\"\n",
    "    # Convert data to {0, 1} format\n",
    "    y_true = np.where(y_true == 1.0, 1, 0)\n",
    "\n",
    "    # sort values in descending order\n",
    "    indices_desc = np.argsort(y_pred)[::-1]\n",
    "    y_true = y_true[indices_desc]\n",
    "    y_pred = y_pred[indices_desc]\n",
    "\n",
    "    # Calculate True Positives and False Negatives\n",
    "    tps = np.cumsum(y_true)\n",
    "    fps = 1 + np.arange(tps.size) - tps\n",
    "\n",
    "    # Making sure that the first value is (0,0)\n",
    "    tps = np.r_[0, tps]\n",
    "    fps = np.r_[0, fps]\n",
    "\n",
    "    # Calculating False Positive Rate and True Positive Rate\n",
    "    fpr = fps / fps[-1]\n",
    "    tpr = tps / tps[-1]\n",
    "\n",
    "    # AUC is the area under the ROC curve\n",
    "    # Using trapezoidal integration\n",
    "    c = np.trapz(tpr, fpr)\n",
    "\n",
    "    if plot:\n",
    "        plt.plot(fpr, tpr, color='darkorange', lw=2, label='ROC curve')\n",
    "        plt.plot([0, 1], [0, 1], color='navy', lw=2, linestyle='--')\n",
    "        plt.xlim([0.0, 1.0])\n",
    "        plt.ylim([0.0, 1.0])\n",
    "        plt.xlabel('False Positive Rate')\n",
    "        plt.ylabel('True Positive Rate')\n",
    "        plt.title('Receiver operating characteristic')\n",
    "        plt.legend(loc=\"lower right\")\n",
    "        plt.show()\n",
    "\n",
    "    return c"
   ]
  },
  {
   "cell_type": "code",
   "execution_count": null,
   "metadata": {},
   "outputs": [],
   "source": [
    "roc_fun(y_)"
   ]
  },
  {
   "cell_type": "code",
   "execution_count": null,
   "metadata": {},
   "outputs": [],
   "source": []
  },
  {
   "cell_type": "code",
   "execution_count": null,
   "metadata": {},
   "outputs": [],
   "source": []
  },
  {
   "cell_type": "code",
   "execution_count": null,
   "metadata": {},
   "outputs": [],
   "source": []
  },
  {
   "cell_type": "code",
   "execution_count": null,
   "metadata": {},
   "outputs": [],
   "source": []
  },
  {
   "cell_type": "code",
   "execution_count": null,
   "metadata": {},
   "outputs": [],
   "source": []
  },
  {
   "cell_type": "code",
   "execution_count": null,
   "metadata": {},
   "outputs": [],
   "source": []
  },
  {
   "cell_type": "code",
   "execution_count": null,
   "metadata": {},
   "outputs": [],
   "source": []
  },
  {
   "cell_type": "code",
   "execution_count": null,
   "metadata": {},
   "outputs": [],
   "source": []
  },
  {
   "cell_type": "code",
   "execution_count": null,
   "metadata": {},
   "outputs": [],
   "source": []
  },
  {
   "cell_type": "markdown",
   "metadata": {},
   "source": [
    "# Efiicient LOOCV"
   ]
  },
  {
   "cell_type": "code",
   "execution_count": 132,
   "metadata": {},
   "outputs": [],
   "source": [
    "def getTrainK(X, kernel, kernelparam=1.):\n",
    "        if kernel == 'linear':\n",
    "            return X.T*X\n",
    "        if kernel == 'polynomial':\n",
    "            return np.power(X.T*X+1, kernelparam)\n",
    "        if kernel == 'gaussian':\n",
    "            return (np.exp(-1*((X.T-X)**2)/(2 * np.square(kernelparam))))\n",
    "            pass\n",
    "        print(\"dafuq\")\n",
    "        pass\n",
    "    \n",
    "def getPredK(X, kernel, kernelparam=1.):\n",
    "        if kernel == 'linear':\n",
    "            return Xtr.T*X\n",
    "        if kernel == 'polynomial':\n",
    "            return (Xtr.T*X+1)**kernelparam\n",
    "        if kernel == 'gaussian':\n",
    "            return (np.exp(-1*((X.T-X)**2)/(2 * np.square(kernelparam))))\n",
    "            pass\n",
    "        print(\"dafuq\")\n",
    "        pass"
   ]
  },
  {
   "cell_type": "code",
   "execution_count": 134,
   "metadata": {},
   "outputs": [
    {
     "data": {
      "text/plain": [
       "array([[1141.823618  ,  997.63088501,  975.27433029, ..., -493.57268593,\n",
       "        -540.64660338, -579.15462558],\n",
       "       [ 997.63088501,  872.23344961,  852.78580155, ..., -416.77582328,\n",
       "        -456.79221114, -489.53795076],\n",
       "       [ 975.27433029,  852.78580155,  833.78840896, ..., -405.03100935,\n",
       "        -443.96503863, -475.82694628],\n",
       "       ...,\n",
       "       [-493.57268593, -416.77582328, -405.03100935, ...,  826.77216672,\n",
       "         888.91585112,  939.20800977],\n",
       "       [-540.64660338, -456.79221114, -443.96503863, ...,  888.91585112,\n",
       "         955.92532046, 1010.16169935],\n",
       "       [-579.15462558, -489.53795076, -475.82694628, ...,  939.20800977,\n",
       "        1010.16169935, 1067.59550177]])"
      ]
     },
     "execution_count": 134,
     "metadata": {},
     "output_type": "execute_result"
    }
   ],
   "source": [
    "getTrainK(Xtr, 'polynomial', 3)"
   ]
  },
  {
   "cell_type": "code",
   "execution_count": 54,
   "metadata": {},
   "outputs": [
    {
     "data": {
      "text/plain": [
       "[<matplotlib.lines.Line2D at 0x7fedf290b4e0>]"
      ]
     },
     "execution_count": 54,
     "metadata": {},
     "output_type": "execute_result"
    },
    {
     "data": {
      "image/png": "[encoded data removed]",
      "text/plain": [
       "<Figure size 432x288 with 1 Axes>"
      ]
     },
     "metadata": {
      "needs_background": "light"
     },
     "output_type": "display_data"
    }
   ],
   "source": [
    "test = krr(kernel = 'gaussian', kernelparameter=1, regularization=C[np.where(err==min(err))]) #8 for polynomial\n",
    "a = test.fit(X=Xtr, y=Ytr)\n",
    "plt.plot(Xte, a.predict(Xte))\n",
    "plt.plot(Xtr, Ytr)"
   ]
  },
  {
   "cell_type": "code",
   "execution_count": 159,
   "metadata": {},
   "outputs": [
    {
     "data": {
      "text/plain": [
       "[<matplotlib.lines.Line2D at 0x7fedf1f5f9b0>]"
      ]
     },
     "execution_count": 159,
     "metadata": {},
     "output_type": "execute_result"
    },
    {
     "data": {
      "image/png": "[encoded data removed]",
      "text/plain": [
       "<Figure size 432x288 with 1 Axes>"
      ]
     },
     "metadata": {
      "needs_background": "light"
     },
     "output_type": "display_data"
    }
   ],
   "source": [
    "kernel = 'gaussian'\n",
    "param = .2\n",
    "K = getTrainK(Xtr, kernel, param)\n",
    "test = krr(kernel = kernel, kernelparameter=param, regularization=eloocv(K, Ytr)) #8 for polynomial\n",
    "a = test.fit(X=Xtr, y=Ytr)\n",
    "plt.plot(Xte, a.predict(Xte))\n",
    "plt.plot(Xtr, Ytr)"
   ]
  },
  {
   "cell_type": "code",
   "execution_count": 24,
   "metadata": {},
   "outputs": [],
   "source": [
    "predK = getPredK(Xte, 'polynomial', 3)"
   ]
  },
  {
   "cell_type": "code",
   "execution_count": 136,
   "metadata": {},
   "outputs": [
    {
     "data": {
      "text/plain": [
       "array([[10.45200657,  9.99209671,  9.91689233, ..., -7.9028494 ,\n",
       "        -8.14650183, -8.3354972 ],\n",
       "       [ 9.99209671,  9.55456485,  9.48301972, ..., -7.46966009,\n",
       "        -7.70145703, -7.88125637],\n",
       "       [ 9.91689233,  9.48301972,  9.41207295, ..., -7.39882505,\n",
       "        -7.62868338, -7.806979  ],\n",
       "       ...,\n",
       "       [-7.9028494 , -7.46966009, -7.39882505, ...,  9.38559801,\n",
       "         9.61509435,  9.79310917],\n",
       "       [-8.14650183, -7.70145703, -7.62868338, ...,  9.61509435,\n",
       "         9.85087153, 10.03375824],\n",
       "       [-8.3354972 , -7.88125637, -7.806979  , ...,  9.79310917,\n",
       "        10.03375824, 10.22042397]])"
      ]
     },
     "execution_count": 136,
     "metadata": {},
     "output_type": "execute_result"
    }
   ],
   "source": [
    "getTrainK(Xtr, 'polynomial', 1)"
   ]
  },
  {
   "cell_type": "code",
   "execution_count": 137,
   "metadata": {},
   "outputs": [],
   "source": [
    "K = getTrainK(Xtr, 'polynomial', 2)\n",
    "err = np.array([])\n",
    "eigval, U = la.eig(K)\n",
    "U = U.real\n",
    "L = np.diag(eigval).real\n",
    "C = 0.1#np.logspace(-10, 10, 100) #should be variable, logspace(-10, 10, 100) [or so]\n",
    "inv = np.array([])\n",
    "#for c in C:\n",
    "c=C\n",
    "inverse = la.pinv(L+c*np.eye(len(L)))\n",
    "inv = inverse\n",
    "S = np.dot(np.dot(np.dot(U, L), inverse), U.T)\n",
    "Sdiag = np.diagonal(S)\n",
    "err = np.append(err, np.mean(np.square((Ytr-np.dot(S, Ytr))/(1-Sdiag)), axis=0))"
   ]
  },
  {
   "cell_type": "code",
   "execution_count": null,
   "metadata": {},
   "outputs": [],
   "source": []
  },
  {
   "cell_type": "code",
   "execution_count": 109,
   "metadata": {},
   "outputs": [
    {
     "data": {
      "text/plain": [
       "array([0.11259454])"
      ]
     },
     "execution_count": 109,
     "metadata": {},
     "output_type": "execute_result"
    }
   ],
   "source": [
    "err"
   ]
  },
  {
   "cell_type": "code",
   "execution_count": 88,
   "metadata": {},
   "outputs": [
    {
     "data": {
      "text/plain": [
       "array([5.09413801])"
      ]
     },
     "execution_count": 88,
     "metadata": {},
     "output_type": "execute_result"
    }
   ],
   "source": [
    "eloocv(K, Ytr)"
   ]
  },
  {
   "cell_type": "code",
   "execution_count": 167,
   "metadata": {},
   "outputs": [],
   "source": [
    "#Alternative without for loops for whole logspace:\n",
    "\n",
    "def eloocv(K, Y):\n",
    "    eigval, U = la.eig(K)\n",
    "    U = U.real\n",
    "    L = np.diag(eigval).real\n",
    "    UL = np.dot(U, L)\n",
    "\n",
    "    C3 = np.logspace(-5,5,50)#np.array([5, 6, 7])#1,2,3,4,5,6,7])\n",
    "    I3 = np.eye(len(L))\n",
    "    CI3 = np.einsum('ij,k->kij', I3, C3)\n",
    "\n",
    "    CI3L = CI3 + L\n",
    "    dt = np.dtype(np.float32)\n",
    "    apinv = list(map(lambda n: la.pinv(n), CI3L))\n",
    "    apinv = np.asarray(apinv,dtype=dt) \n",
    "\n",
    "    ULCI3 = np.einsum('lj,ijk->ilk',UL,apinv)\n",
    "    ULCI3UT = np.einsum('ikj,jl->ikl', ULCI3, U.T)\n",
    "    Se = ULCI3UT\n",
    "    Sdiage = np.einsum('kii->ki', Se)\n",
    "    err = np.mean(np.square((Y-np.dot(Se, Y))*((1-Sdiage)**-1)), axis=1)\n",
    "\n",
    "    return C3[np.where(err==min(err))]"
   ]
  },
  {
   "cell_type": "code",
   "execution_count": 111,
   "metadata": {},
   "outputs": [
    {
     "data": {
      "text/plain": [
       "array([0.11259454, 0.11258238])"
      ]
     },
     "execution_count": 111,
     "metadata": {},
     "output_type": "execute_result"
    }
   ],
   "source": [
    "err"
   ]
  },
  {
   "cell_type": "code",
   "execution_count": null,
   "metadata": {},
   "outputs": [],
   "source": []
  },
  {
   "cell_type": "code",
   "execution_count": 56,
   "metadata": {},
   "outputs": [
    {
     "data": {
      "text/plain": [
       "0.11398834017317463"
      ]
     },
     "execution_count": 56,
     "metadata": {},
     "output_type": "execute_result"
    }
   ],
   "source": [
    "K = getTrainK(Xtr, 'polynomial', 3)\n",
    "eigval, U = la.eig(K)\n",
    "U = U.real\n",
    "L = np.diag(eigval).real\n",
    "C = [[5]]#, [2]] #should be variable, logspace(-10, 10, 100) [or so]\n",
    "inverse = la.pinv(L+C*np.eye(len(L)))\n",
    "S = np.dot(np.dot(np.dot(U, L), inverse), U.T)\n",
    "Sdiag = np.diagonal(S)\n",
    "err = np.mean(np.square((Ytr-np.dot(Ytr, S))/(1-Sdiag)), axis=0)\n",
    "err"
   ]
  },
  {
   "cell_type": "code",
   "execution_count": null,
   "metadata": {},
   "outputs": [],
   "source": [
    "neighbours = np.einsum('ijk,ij->ijk', relPos, epsilonmask)"
   ]
  },
  {
   "cell_type": "code",
   "execution_count": 455,
   "metadata": {},
   "outputs": [
    {
     "data": {
      "text/plain": [
       "(100, 100)"
      ]
     },
     "execution_count": 455,
     "metadata": {},
     "output_type": "execute_result"
    }
   ],
   "source": [
    "S.shape"
   ]
  },
  {
   "cell_type": "code",
   "execution_count": 224,
   "metadata": {},
   "outputs": [],
   "source": [
    "C3 = np.array([1,2])\n",
    "I3 = np.eye(len(L))\n",
    "CI3 = np.einsum('ij,k->ijk', I3, C3)\n",
    "CI3L = CI3.T+L"
   ]
  },
  {
   "cell_type": "code",
   "execution_count": 238,
   "metadata": {},
   "outputs": [],
   "source": [
    "dt = np.dtype(np.float32)\n",
    "apinv = list(map(lambda n: la.pinv(n), CI3L))\n",
    "apinv = np.asarray(apinv,dtype=dt)"
   ]
  },
  {
   "cell_type": "code",
   "execution_count": 255,
   "metadata": {},
   "outputs": [
    {
     "data": {
      "text/plain": [
       "(100, 100)"
      ]
     },
     "execution_count": 255,
     "metadata": {},
     "output_type": "execute_result"
    }
   ],
   "source": [
    "UL = np.dot(U, L)\n",
    "UL.shape"
   ]
  },
  {
   "cell_type": "code",
   "execution_count": null,
   "metadata": {},
   "outputs": [],
   "source": []
  },
  {
   "cell_type": "code",
   "execution_count": null,
   "metadata": {},
   "outputs": [],
   "source": []
  },
  {
   "cell_type": "code",
   "execution_count": null,
   "metadata": {},
   "outputs": [],
   "source": []
  },
  {
   "cell_type": "markdown",
   "metadata": {},
   "source": [
    "## Testing 3D error calculation for C = [-10, ..., 10] instead of C=1"
   ]
  },
  {
   "cell_type": "code",
   "execution_count": 82,
   "metadata": {},
   "outputs": [],
   "source": [
    "Ltest = L#np.array([[1,2], [3,4]])\n",
    "Utest = U#np.array([[1, 10], [100, 1000]])\n",
    "ytest = Ytr#[8,9]\n",
    "\n",
    "#Ltest = np.array([[1,2], [3,4]])\n",
    "#Utest = np.array([[1, 10], [100, 1000]])\n",
    "#ytest = [8,9]\n",
    "\n",
    "ULtest = np.dot(Utest, Ltest)\n",
    "\n"
   ]
  },
  {
   "cell_type": "code",
   "execution_count": null,
   "metadata": {},
   "outputs": [],
   "source": []
  },
  {
   "cell_type": "code",
   "execution_count": null,
   "metadata": {},
   "outputs": [],
   "source": []
  },
  {
   "cell_type": "code",
   "execution_count": 85,
   "metadata": {},
   "outputs": [],
   "source": [
    "C3 = np.logspace(-10,10,100)#np.array([5, 6, 7])#1,2,3,4,5,6,7])\n",
    "I3test = np.eye(len(Ltest))\n",
    "CI3test = np.einsum('ij,k->kij', I3test, C3)\n",
    "\n",
    "CI3L = CI3test + Ltest\n",
    "dt = np.dtype(np.float32)\n",
    "apinv = list(map(lambda n: la.pinv(n), CI3L))\n",
    "apinv = np.asarray(apinv,dtype=dt) \n",
    "\n",
    "ULCI3 = np.einsum('lj,ijk->ilk',ULtest,apinv)\n",
    "ULCI3UT = np.einsum('ikj,jl->ikl', ULCI3, Utest.T)\n",
    "Stest = ULCI3UT\n",
    "Stestdiag = np.einsum('kii->ki', Stest)\n",
    "errtest = np.mean(np.square((ytest-np.dot(Stest, ytest))*((1-Stestdiag)**-1)), axis=1)\n",
    "\n",
    "C3[np.where(errtest==min(errtest))]"
   ]
  },
  {
   "cell_type": "code",
   "execution_count": 92,
   "metadata": {},
   "outputs": [
    {
     "data": {
      "text/plain": [
       "array([3.19926714])"
      ]
     },
     "execution_count": 92,
     "metadata": {},
     "output_type": "execute_result"
    }
   ],
   "source": []
  },
  {
   "cell_type": "code",
   "execution_count": 88,
   "metadata": {},
   "outputs": [
    {
     "data": {
      "text/plain": [
       "0.1403294991182015"
      ]
     },
     "execution_count": 88,
     "metadata": {},
     "output_type": "execute_result"
    }
   ],
   "source": []
  },
  {
   "cell_type": "code",
   "execution_count": 79,
   "metadata": {},
   "outputs": [
    {
     "data": {
      "text/plain": [
       "array([[[4.27708329e+01, 4.27708329e+03],\n",
       "        [4.27708329e+03, 4.27708329e+05]],\n",
       "\n",
       "       [[3.91250000e+01, 3.91250000e+03],\n",
       "        [3.91250000e+03, 3.91250000e+05]],\n",
       "\n",
       "       [[3.60365844e+01, 3.60365844e+03],\n",
       "        [3.60365844e+03, 3.60365844e+05]]])"
      ]
     },
     "execution_count": 79,
     "metadata": {},
     "output_type": "execute_result"
    }
   ],
   "source": [
    "Stest"
   ]
  },
  {
   "cell_type": "code",
   "execution_count": 78,
   "metadata": {},
   "outputs": [
    {
     "data": {
      "text/plain": [
       "array([[4.27708329e+01, 4.27708329e+05],\n",
       "       [3.91250000e+01, 3.91250000e+05],\n",
       "       [3.60365844e+01, 3.60365844e+05]])"
      ]
     },
     "execution_count": 78,
     "metadata": {},
     "output_type": "execute_result"
    }
   ],
   "source": [
    "Stestdiag"
   ]
  },
  {
   "cell_type": "code",
   "execution_count": 64,
   "metadata": {},
   "outputs": [
    {
     "data": {
      "text/plain": [
       "array([[4.27708329e+01, 4.27708329e+03],\n",
       "       [4.27708329e+03, 4.27708329e+05]])"
      ]
     },
     "execution_count": 64,
     "metadata": {},
     "output_type": "execute_result"
    }
   ],
   "source": [
    "np.dot(ULCI3[0], Utest.T)"
   ]
  },
  {
   "cell_type": "code",
   "execution_count": 43,
   "metadata": {},
   "outputs": [
    {
     "data": {
      "text/plain": [
       "array([[  31,   42],\n",
       "       [3100, 4200]])"
      ]
     },
     "execution_count": 43,
     "metadata": {},
     "output_type": "execute_result"
    }
   ],
   "source": [
    "ULtest"
   ]
  },
  {
   "cell_type": "code",
   "execution_count": 45,
   "metadata": {},
   "outputs": [
    {
     "data": {
      "text/plain": [
       "array([[ 0.1875    , -0.04166667],\n",
       "       [-0.0625    ,  0.125     ]], dtype=float32)"
      ]
     },
     "execution_count": 45,
     "metadata": {},
     "output_type": "execute_result"
    }
   ],
   "source": [
    "apinv[0]"
   ]
  },
  {
   "cell_type": "code",
   "execution_count": 47,
   "metadata": {},
   "outputs": [
    {
     "data": {
      "text/plain": [
       "array([[[  4.52083329,   6.12499995],\n",
       "        [193.75      , 262.5       ]],\n",
       "\n",
       "       [[  3.875     ,   5.25      ],\n",
       "        [193.75      , 262.5       ]]])"
      ]
     },
     "execution_count": 47,
     "metadata": {},
     "output_type": "execute_result"
    }
   ],
   "source": [
    "np.einsum('ij,kim->kij', ULtest, apinv)"
   ]
  },
  {
   "cell_type": "code",
   "execution_count": 50,
   "metadata": {},
   "outputs": [
    {
     "data": {
      "text/plain": [
       "array([[[  3.1875    ,   3.95833329],\n",
       "        [318.75      , 395.83332948]],\n",
       "\n",
       "       [[  2.875     ,   3.625     ],\n",
       "        [287.5       , 362.5       ]]])"
      ]
     },
     "execution_count": 50,
     "metadata": {},
     "output_type": "execute_result"
    }
   ],
   "source": []
  },
  {
   "cell_type": "code",
   "execution_count": 471,
   "metadata": {},
   "outputs": [
    {
     "data": {
      "text/plain": [
       "array([98.0044335,  9.8000002])"
      ]
     },
     "execution_count": 471,
     "metadata": {},
     "output_type": "execute_result"
    }
   ],
   "source": [
    "(ytest-(np.dot(Stest[0],ytest)))/(1-Stestdiag[0])"
   ]
  },
  {
   "cell_type": "code",
   "execution_count": 473,
   "metadata": {},
   "outputs": [
    {
     "data": {
      "text/plain": [
       "107.8044336940827"
      ]
     },
     "execution_count": 473,
     "metadata": {},
     "output_type": "execute_result"
    }
   ],
   "source": [
    "(ytest-(np.dot(Stest[0],ytest))),(1-Stestdiag[0])**-1"
   ]
  },
  {
   "cell_type": "code",
   "execution_count": 486,
   "metadata": {},
   "outputs": [
    {
     "data": {
      "text/plain": [
       "array([9604.86898517,   96.04000385])"
      ]
     },
     "execution_count": 486,
     "metadata": {},
     "output_type": "execute_result"
    }
   ],
   "source": [
    "np.square((ytest-(np.dot(Stest[0],ytest)))/(1-Stestdiag[0]))"
   ]
  },
  {
   "cell_type": "code",
   "execution_count": 359,
   "metadata": {},
   "outputs": [
    {
     "data": {
      "text/plain": [
       "array([[  20301.,  203010.],\n",
       "       [ 407030., 4070300.]])"
      ]
     },
     "execution_count": 359,
     "metadata": {},
     "output_type": "execute_result"
    }
   ],
   "source": [
    "ULCI3UT[0]"
   ]
  },
  {
   "cell_type": "code",
   "execution_count": 355,
   "metadata": {},
   "outputs": [
    {
     "data": {
      "text/plain": [
       "array([[ 201., 2010.],\n",
       "       [ 403., 4030.]])"
      ]
     },
     "execution_count": 355,
     "metadata": {},
     "output_type": "execute_result"
    }
   ],
   "source": [
    "(np.dot(ULtest, CI3test[0]))"
   ]
  },
  {
   "cell_type": "code",
   "execution_count": 356,
   "metadata": {},
   "outputs": [
    {
     "data": {
      "text/plain": [
       "array([[  20301., 2030100.],\n",
       "       [  40703., 4070300.]])"
      ]
     },
     "execution_count": 356,
     "metadata": {},
     "output_type": "execute_result"
    }
   ],
   "source": [
    "np.dot(np.dot(ULtest, CI3test[0]),Utest.T)"
   ]
  },
  {
   "cell_type": "code",
   "execution_count": 220,
   "metadata": {},
   "outputs": [
    {
     "data": {
      "text/plain": [
       "array([[[2., 2.],\n",
       "        [3., 5.]],\n",
       "\n",
       "       [[3., 2.],\n",
       "        [3., 6.]]])"
      ]
     },
     "execution_count": 220,
     "metadata": {},
     "output_type": "execute_result"
    }
   ],
   "source": [
    "CI3test.T+Ltest"
   ]
  },
  {
   "cell_type": "code",
   "execution_count": 218,
   "metadata": {},
   "outputs": [
    {
     "data": {
      "text/plain": [
       "array([[1., 0.],\n",
       "       [0., 1.]])"
      ]
     },
     "execution_count": 218,
     "metadata": {},
     "output_type": "execute_result"
    }
   ],
   "source": [
    "I3test"
   ]
  },
  {
   "cell_type": "code",
   "execution_count": 175,
   "metadata": {},
   "outputs": [
    {
     "data": {
      "text/plain": [
       "array([1.00000000e-10, 1.59228279e-10, 2.53536449e-10, 4.03701726e-10,\n",
       "       6.42807312e-10, 1.02353102e-09, 1.62975083e-09, 2.59502421e-09,\n",
       "       4.13201240e-09, 6.57933225e-09, 1.04761575e-08, 1.66810054e-08,\n",
       "       2.65608778e-08, 4.22924287e-08, 6.73415066e-08, 1.07226722e-07,\n",
       "       1.70735265e-07, 2.71858824e-07, 4.32876128e-07, 6.89261210e-07,\n",
       "       1.09749877e-06, 1.74752840e-06, 2.78255940e-06, 4.43062146e-06,\n",
       "       7.05480231e-06, 1.12332403e-05, 1.78864953e-05, 2.84803587e-05,\n",
       "       4.53487851e-05, 7.22080902e-05, 1.14975700e-04, 1.83073828e-04,\n",
       "       2.91505306e-04, 4.64158883e-04, 7.39072203e-04, 1.17681195e-03,\n",
       "       1.87381742e-03, 2.98364724e-03, 4.75081016e-03, 7.56463328e-03,\n",
       "       1.20450354e-02, 1.91791026e-02, 3.05385551e-02, 4.86260158e-02,\n",
       "       7.74263683e-02, 1.23284674e-01, 1.96304065e-01, 3.12571585e-01,\n",
       "       4.97702356e-01, 7.92482898e-01, 1.26185688e+00, 2.00923300e+00,\n",
       "       3.19926714e+00, 5.09413801e+00, 8.11130831e+00, 1.29154967e+01,\n",
       "       2.05651231e+01, 3.27454916e+01, 5.21400829e+01, 8.30217568e+01,\n",
       "       1.32194115e+02, 2.10490414e+02, 3.35160265e+02, 5.33669923e+02,\n",
       "       8.49753436e+02, 1.35304777e+03, 2.15443469e+03, 3.43046929e+03,\n",
       "       5.46227722e+03, 8.69749003e+03, 1.38488637e+04, 2.20513074e+04,\n",
       "       3.51119173e+04, 5.59081018e+04, 8.90215085e+04, 1.41747416e+05,\n",
       "       2.25701972e+05, 3.59381366e+05, 5.72236766e+05, 9.11162756e+05,\n",
       "       1.45082878e+06, 2.31012970e+06, 3.67837977e+06, 5.85702082e+06,\n",
       "       9.32603347e+06, 1.48496826e+07, 2.36448941e+07, 3.76493581e+07,\n",
       "       5.99484250e+07, 9.54548457e+07, 1.51991108e+08, 2.42012826e+08,\n",
       "       3.85352859e+08, 6.13590727e+08, 9.77009957e+08, 1.55567614e+09,\n",
       "       2.47707636e+09, 3.94420606e+09, 6.28029144e+09, 1.00000000e+10])"
      ]
     },
     "execution_count": 175,
     "metadata": {},
     "output_type": "execute_result"
    }
   ],
   "source": [
    "np.logspace(-10, 10, 100)"
   ]
  },
  {
   "cell_type": "code",
   "execution_count": 170,
   "metadata": {},
   "outputs": [
    {
     "data": {
      "text/plain": [
       "126.33379365062824"
      ]
     },
     "execution_count": 170,
     "metadata": {},
     "output_type": "execute_result"
    }
   ],
   "source": [
    "np.mean(np.square((Ytr-np.dot(Ytr, S))/Sdiag))"
   ]
  },
  {
   "cell_type": "code",
   "execution_count": null,
   "metadata": {},
   "outputs": [],
   "source": []
  },
  {
   "cell_type": "code",
   "execution_count": null,
   "metadata": {},
   "outputs": [],
   "source": []
  },
  {
   "cell_type": "code",
   "execution_count": null,
   "metadata": {},
   "outputs": [],
   "source": []
  },
  {
   "cell_type": "code",
   "execution_count": null,
   "metadata": {},
   "outputs": [],
   "source": []
  },
  {
   "cell_type": "code",
   "execution_count": null,
   "metadata": {},
   "outputs": [],
   "source": []
  },
  {
   "cell_type": "code",
   "execution_count": null,
   "metadata": {},
   "outputs": [],
   "source": []
  },
  {
   "cell_type": "code",
   "execution_count": 149,
   "metadata": {},
   "outputs": [
    {
     "data": {
      "text/plain": [
       "9.468079765807724"
      ]
     },
     "execution_count": 149,
     "metadata": {},
     "output_type": "execute_result"
    }
   ],
   "source": [
    "np.sum(getK(X=np.array([[-1.5]]), kernel='polynomial', kernelparam=3.)*w)"
   ]
  },
  {
   "cell_type": "code",
   "execution_count": 144,
   "metadata": {},
   "outputs": [
    {
     "data": {
      "text/plain": [
       "[<matplotlib.lines.Line2D at 0x7fba1da79fd0>]"
      ]
     },
     "execution_count": 144,
     "metadata": {},
     "output_type": "execute_result"
    },
    {
     "data": {
      "image/png": "[encoded data removed]",
      "text/plain": [
       "<Figure size 432x288 with 1 Axes>"
      ]
     },
     "metadata": {
      "needs_background": "light"
     },
     "output_type": "display_data"
    }
   ],
   "source": [
    "plt.scatter(Xtr, Ytr)\n",
    "plt.plot(Xtr, (w*Xtr.flatten()))\n",
    "plt.plot(Xtr, (act_w*Xtr.flatten()))"
   ]
  },
  {
   "cell_type": "code",
   "execution_count": 29,
   "metadata": {},
   "outputs": [
    {
     "ename": "ValueError",
     "evalue": "matmul: Input operand 1 has a mismatch in its core dimension 0, with gufunc signature (n?,k),(k,m?)->(n?,m?) (size 629 is different from 100)",
     "output_type": "error",
     "traceback": [
      "\u001b[0;31m---------------------------------------------------------------------------\u001b[0m",
      "\u001b[0;31mValueError\u001b[0m                                Traceback (most recent call last)",
      "\u001b[0;32m<ipython-input-29-2871f66b6ba4>\u001b[0m in \u001b[0;36m<module>\u001b[0;34m\u001b[0m\n\u001b[0;32m----> 1\u001b[0;31m \u001b[0ma\u001b[0m\u001b[0;34m.\u001b[0m\u001b[0mpredict\u001b[0m\u001b[0;34m(\u001b[0m\u001b[0mXte\u001b[0m\u001b[0;34m.\u001b[0m\u001b[0mT\u001b[0m\u001b[0;34m)\u001b[0m\u001b[0;34m\u001b[0m\u001b[0;34m\u001b[0m\u001b[0m\n\u001b[0m",
      "\u001b[0;32m<ipython-input-10-8ca0e4bda3cc>\u001b[0m in \u001b[0;36mpredict\u001b[0;34m(self, X)\u001b[0m\n\u001b[1;32m     33\u001b[0m \u001b[0;34m\u001b[0m\u001b[0m\n\u001b[1;32m     34\u001b[0m     \u001b[0;32mdef\u001b[0m \u001b[0mpredict\u001b[0m\u001b[0;34m(\u001b[0m\u001b[0mself\u001b[0m\u001b[0;34m,\u001b[0m \u001b[0mX\u001b[0m\u001b[0;34m)\u001b[0m\u001b[0;34m:\u001b[0m\u001b[0;34m\u001b[0m\u001b[0;34m\u001b[0m\u001b[0m\n\u001b[0;32m---> 35\u001b[0;31m         \u001b[0mself\u001b[0m\u001b[0;34m.\u001b[0m\u001b[0mm\u001b[0m \u001b[0;34m=\u001b[0m \u001b[0mself\u001b[0m\u001b[0;34m.\u001b[0m\u001b[0malpha\u001b[0m\u001b[0;34m@\u001b[0m\u001b[0mself\u001b[0m\u001b[0;34m.\u001b[0m\u001b[0mgetK\u001b[0m\u001b[0;34m(\u001b[0m\u001b[0mX\u001b[0m\u001b[0;34m,\u001b[0m \u001b[0mself\u001b[0m\u001b[0;34m.\u001b[0m\u001b[0mkernel\u001b[0m\u001b[0;34m,\u001b[0m \u001b[0mself\u001b[0m\u001b[0;34m.\u001b[0m\u001b[0mkernelparameter\u001b[0m\u001b[0;34m)\u001b[0m\u001b[0;34m\u001b[0m\u001b[0;34m\u001b[0m\u001b[0m\n\u001b[0m\u001b[1;32m     36\u001b[0m         \u001b[0mprint\u001b[0m\u001b[0;34m(\u001b[0m\u001b[0mm\u001b[0m\u001b[0;34m)\u001b[0m\u001b[0;34m\u001b[0m\u001b[0;34m\u001b[0m\u001b[0m\n\u001b[1;32m     37\u001b[0m         \u001b[0;32mreturn\u001b[0m \u001b[0mself\u001b[0m\u001b[0;34m\u001b[0m\u001b[0;34m\u001b[0m\u001b[0m\n",
      "\u001b[0;31mValueError\u001b[0m: matmul: Input operand 1 has a mismatch in its core dimension 0, with gufunc signature (n?,k),(k,m?)->(n?,m?) (size 629 is different from 100)"
     ]
    }
   ],
   "source": [
    "a.predict(Xte)"
   ]
  },
  {
   "cell_type": "code",
   "execution_count": 59,
   "metadata": {},
   "outputs": [],
   "source": [
    "import sklearn\n",
    "from sklearn.kernel_ridge import KernelRidge\n",
    "import numpy as np\n",
    "clf = KernelRidge(kernel='polynomial', alpha=1.0, degree=8)\n",
    "clf.fit(Xtr, Ytr)\n",
    "plt.plot(Xte, clf.predict(Xte))"
   ]
  },
  {
   "cell_type": "code",
   "execution_count": 60,
   "metadata": {},
   "outputs": [
    {
     "data": {
      "text/plain": [
       "KernelRidge(alpha=1.0, degree=8, kernel='polynomial')"
      ]
     },
     "execution_count": 60,
     "metadata": {},
     "output_type": "execute_result"
    }
   ],
   "source": []
  },
  {
   "cell_type": "code",
   "execution_count": 65,
   "metadata": {},
   "outputs": [
    {
     "data": {
      "text/plain": [
       "3"
      ]
     },
     "execution_count": 65,
     "metadata": {},
     "output_type": "execute_result"
    }
   ],
   "source": [
    "np.array([1])@np.array([3])"
   ]
  },
  {
   "cell_type": "code",
   "execution_count": 217,
   "metadata": {},
   "outputs": [],
   "source": [
    "act_w = clf.dual_coef_"
   ]
  },
  {
   "cell_type": "code",
   "execution_count": 225,
   "metadata": {},
   "outputs": [],
   "source": [
    "act_pred = clf.predict(Xte)"
   ]
  },
  {
   "cell_type": "code",
   "execution_count": 317,
   "metadata": {},
   "outputs": [
    {
     "data": {
      "text/plain": [
       "{'additive_chi2': <function sklearn.metrics.pairwise.additive_chi2_kernel(X, Y=None)>,\n",
       " 'chi2': <function sklearn.metrics.pairwise.chi2_kernel(X, Y=None, gamma=1.0)>,\n",
       " 'linear': <function sklearn.metrics.pairwise.linear_kernel(X, Y=None, dense_output=True)>,\n",
       " 'polynomial': <function sklearn.metrics.pairwise.polynomial_kernel(X, Y=None, degree=3, gamma=None, coef0=1)>,\n",
       " 'poly': <function sklearn.metrics.pairwise.polynomial_kernel(X, Y=None, degree=3, gamma=None, coef0=1)>,\n",
       " 'rbf': <function sklearn.metrics.pairwise.rbf_kernel(X, Y=None, gamma=None)>,\n",
       " 'laplacian': <function sklearn.metrics.pairwise.laplacian_kernel(X, Y=None, gamma=None)>,\n",
       " 'sigmoid': <function sklearn.metrics.pairwise.sigmoid_kernel(X, Y=None, gamma=None, coef0=1)>,\n",
       " 'cosine': <function sklearn.metrics.pairwise.cosine_similarity(X, Y=None, dense_output=True)>}"
      ]
     },
     "execution_count": 317,
     "metadata": {},
     "output_type": "execute_result"
    }
   ],
   "source": [
    "sklearn.metrics.pairwise.PAIRWISE_KERNEL_FUNCTIONS"
   ]
  },
  {
   "cell_type": "code",
   "execution_count": 202,
   "metadata": {},
   "outputs": [],
   "source": [
    "import os"
   ]
  },
  {
   "cell_type": "code",
   "execution_count": null,
   "metadata": {},
   "outputs": [],
   "source": []
  }
 ],
 "metadata": {
  "kernelspec": {
   "display_name": "Python 3",
   "language": "python",
   "name": "python3"
  },
  "language_info": {
   "codemirror_mode": {
    "name": "ipython",
    "version": 3
   },
   "file_extension": ".py",
   "mimetype": "text/x-python",
   "name": "python",
   "nbconvert_exporter": "python",
   "pygments_lexer": "ipython3",
   "version": "3.6.9"
  }
 },
 "nbformat": 4,
 "nbformat_minor": 4
}
