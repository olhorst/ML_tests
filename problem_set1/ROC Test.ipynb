{
 "cells": [
  {
   "cell_type": "code",
   "execution_count": 12,
   "metadata": {},
   "outputs": [],
   "source": [
    "import scipy.linalg as la\n",
    "import numpy as np\n",
    "import matplotlib.pyplot as plt"
   ]
  },
  {
   "cell_type": "code",
   "execution_count": 2,
   "metadata": {},
   "outputs": [],
   "source": [
    "X = np.array([-1, -1, -1, +1, +1])\n",
    "X_p = np.array([0.3, 0.4, 0.5, 0.6, 0.7])\n",
    "\n",
    "Y = np.array([-1, -1, -1, +1, +1, +1])\n",
    "Y_p = np.array([0.3, 0.4, 0.6, 0.5, 0.7, 0.8])\n",
    "\n",
    "Z = np.array([+1, -1, -1, +1, +1, -1])\n",
    "Z_p = np.array([0.3, 0.6, 0.4, 0.5, 0.7, 0.8])"
   ]
  },
  {
   "cell_type": "code",
   "execution_count": 4,
   "metadata": {},
   "outputs": [
    {
     "data": {
      "text/plain": [
       "1.3499999999999999"
      ]
     },
     "execution_count": 4,
     "metadata": {},
     "output_type": "execute_result"
    }
   ],
   "source": [
    "X_v = X*X_p\n",
    "X_v.T @ X_v\n"
   ]
  },
  {
   "cell_type": "code",
   "execution_count": 5,
   "metadata": {},
   "outputs": [
    {
     "data": {
      "text/plain": [
       "0.5"
      ]
     },
     "execution_count": 5,
     "metadata": {},
     "output_type": "execute_result"
    }
   ],
   "source": [
    "abs(np.amin((X*X_p)))"
   ]
  },
  {
   "cell_type": "code",
   "execution_count": 6,
   "metadata": {},
   "outputs": [
    {
     "data": {
      "text/plain": [
       "array([0.3, 0.4])"
      ]
     },
     "execution_count": 6,
     "metadata": {},
     "output_type": "execute_result"
    }
   ],
   "source": [
    "Z_p[Z_p<0.5]"
   ]
  },
  {
   "cell_type": "code",
   "execution_count": 7,
   "metadata": {},
   "outputs": [],
   "source": [
    "Z_pos = Z_p[Z>0]\n",
    "Z_neg = Z_p[Z<0]"
   ]
  },
  {
   "cell_type": "code",
   "execution_count": 8,
   "metadata": {},
   "outputs": [
    {
     "data": {
      "text/plain": [
       "array([0.6, 0.4, 0.8])"
      ]
     },
     "execution_count": 8,
     "metadata": {},
     "output_type": "execute_result"
    }
   ],
   "source": [
    "Z_neg"
   ]
  },
  {
   "cell_type": "code",
   "execution_count": 9,
   "metadata": {},
   "outputs": [
    {
     "data": {
      "text/plain": [
       "array([0.3, 0.5, 0.7])"
      ]
     },
     "execution_count": 9,
     "metadata": {},
     "output_type": "execute_result"
    }
   ],
   "source": [
    "#X_p[X_p<abs(np.amin((X*X_p)))]\n",
    "Z_pos[Z_pos<abs(np.amin((Z*Z_p)))]"
   ]
  },
  {
   "cell_type": "code",
   "execution_count": 10,
   "metadata": {},
   "outputs": [],
   "source": [
    "Z_pos = np.sort(Z_pos)"
   ]
  },
  {
   "cell_type": "code",
   "execution_count": 11,
   "metadata": {},
   "outputs": [],
   "source": [
    "Z_neg = np.sort(Z_neg)"
   ]
  },
  {
   "cell_type": "code",
   "execution_count": null,
   "metadata": {},
   "outputs": [],
   "source": []
  },
  {
   "cell_type": "code",
   "execution_count": 12,
   "metadata": {},
   "outputs": [
    {
     "data": {
      "text/plain": [
       "array([-0.1, -0.1, -0.1])"
      ]
     },
     "execution_count": 12,
     "metadata": {},
     "output_type": "execute_result"
    }
   ],
   "source": [
    "Z_pos - Z_neg"
   ]
  },
  {
   "cell_type": "code",
   "execution_count": 25,
   "metadata": {},
   "outputs": [
    {
     "data": {
      "text/plain": [
       "array([0.4, 0.6, 0.8])"
      ]
     },
     "execution_count": 25,
     "metadata": {},
     "output_type": "execute_result"
    }
   ],
   "source": [
    "Z_neg"
   ]
  },
  {
   "cell_type": "code",
   "execution_count": 26,
   "metadata": {},
   "outputs": [
    {
     "data": {
      "text/plain": [
       "array([0.3, 0.5, 0.7])"
      ]
     },
     "execution_count": 26,
     "metadata": {},
     "output_type": "execute_result"
    }
   ],
   "source": [
    "Z_pos"
   ]
  },
  {
   "cell_type": "code",
   "execution_count": 34,
   "metadata": {},
   "outputs": [
    {
     "data": {
      "text/plain": [
       "0.8"
      ]
     },
     "execution_count": 34,
     "metadata": {},
     "output_type": "execute_result"
    }
   ],
   "source": [
    "Z*Z_p"
   ]
  },
  {
   "cell_type": "markdown",
   "metadata": {},
   "source": [
    "#Nope\n",
    "Y_pos = Y_p[Y>0]\n",
    "Y_neg = Y_p[Y<0]\n",
    "Y_pos = np.sort(Y_pos)\n",
    "Y_neg = np.sort(Y_neg)\n",
    "mask = (Y_pos<np.amin(Y_neg)) | (Y_pos>np.amax(Y_neg))\n",
    "Y_unique = Y_pos[mask]\n",
    "mask = (Y_neg<np.amin(Y_pos)) | (Y_neg>np.amax(Y_pos))\n",
    "Y_unique = np.append(Y_unique, Y_neg[mask])\n",
    "Y_unique.size/Y.size"
   ]
  },
  {
   "cell_type": "code",
   "execution_count": 39,
   "metadata": {},
   "outputs": [],
   "source": [
    "mask = (Z_pos<np.amin(Z_neg)) | (Z_pos>np.amax(Z_neg))\n",
    "Z_unique = Z_pos[mask]"
   ]
  },
  {
   "cell_type": "code",
   "execution_count": 40,
   "metadata": {},
   "outputs": [],
   "source": [
    "mask = (Z_neg<np.amin(Z_pos)) | (Z_neg>np.amax(Z_pos))\n",
    "Z_unique = np.append(Z_unique, Z_neg[mask])"
   ]
  },
  {
   "cell_type": "code",
   "execution_count": 44,
   "metadata": {},
   "outputs": [
    {
     "data": {
      "text/plain": [
       "0.3333333333333333"
      ]
     },
     "execution_count": 44,
     "metadata": {},
     "output_type": "execute_result"
    }
   ],
   "source": [
    "Z_unique.size/Z.size"
   ]
  },
  {
   "cell_type": "markdown",
   "metadata": {},
   "source": [
    "From here new"
   ]
  },
  {
   "cell_type": "code",
   "execution_count": 201,
   "metadata": {},
   "outputs": [],
   "source": [
    "A = np.array([-1, -1, -1, +1, +1, +1])\n",
    "A_p = np.array([0.3, 0.4, 0.6, 0.5, 0.7, 0.8])"
   ]
  },
  {
   "cell_type": "code",
   "execution_count": 221,
   "metadata": {},
   "outputs": [
    {
     "data": {
      "text/plain": [
       "0.0"
      ]
     },
     "execution_count": 221,
     "metadata": {},
     "output_type": "execute_result"
    }
   ],
   "source": [
    "#Calculate thresholds to be tested\n",
    "thresh = np.arange(0.0, 1.01, 0.04)\n",
    "\n",
    "#define arrays for calculation\n",
    "A_labels = np.array([A]*thresh.size)\n",
    "A_vals = np.array([A_p]*thresh.size)\n",
    "#decisionMat combines the obtained values with the threshold and labels (negative numbers are now falsely classified)\n",
    "decisionMat = (A_vals.T-thresh).T\n",
    "decisionMat = decisionMat * A_labels\n",
    "#correct: which points were correctly classified?\n",
    "correct = np.where(test<0, 0, 1)\n",
    "#Calculate true/false positives per threshold\n",
    "TPMask = (A==-1) & (correct==1)\n",
    "TP = np.where(TPMask, 1.0, .0)\n",
    "FPMask = (A==1) & (correct==0)\n",
    "FP = np.where(FPMask, 1.0, 0)\n",
    "TP = np.sum(TP, axis=1)\n",
    "FP = np.sum(FP, axis=1)\n",
    "TP_norm = TP/np.max(TP)\n",
    "FP_norm = FP/np.max(FP)\n",
    "#Calculate the AUC\n",
    "ROC_AUC = np.trapz(TP_norm, FP_norm)"
   ]
  },
  {
   "cell_type": "code",
   "execution_count": 217,
   "metadata": {},
   "outputs": [
    {
     "data": {
      "text/plain": [
       "<function matplotlib.pyplot.show(*args, **kw)>"
      ]
     },
     "execution_count": 217,
     "metadata": {},
     "output_type": "execute_result"
    },
    {
     "data": {
      "image/png": "[encoded data removed]",
      "text/plain": [
       "<Figure size 432x288 with 1 Axes>"
      ]
     },
     "metadata": {
      "needs_background": "light"
     },
     "output_type": "display_data"
    }
   ],
   "source": [
    "plt.plot(FP, TP)\n",
    "plt.show"
   ]
  },
  {
   "cell_type": "code",
   "execution_count": null,
   "metadata": {},
   "outputs": [],
   "source": []
  },
  {
   "cell_type": "code",
   "execution_count": null,
   "metadata": {},
   "outputs": [],
   "source": []
  }
 ],
 "metadata": {
  "kernelspec": {
   "display_name": "Python 3",
   "language": "python",
   "name": "python3"
  },
  "language_info": {
   "codemirror_mode": {
    "name": "ipython",
    "version": 3
   },
   "file_extension": ".py",
   "mimetype": "text/x-python",
   "name": "python",
   "nbconvert_exporter": "python",
   "pygments_lexer": "ipython3",
   "version": "3.6.9"
  }
 },
 "nbformat": 4,
 "nbformat_minor": 4
}
