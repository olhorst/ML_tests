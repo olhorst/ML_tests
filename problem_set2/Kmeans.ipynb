{
 "cells": [
  {
   "cell_type": "code",
   "execution_count": 1,
   "metadata": {},
   "outputs": [],
   "source": [
    "from __future__ import division  # always use float division\n",
    "import numpy as np\n",
    "from scipy.spatial.distance import cdist  # fast distance matrices\n",
    "from scipy.cluster.hierarchy import dendrogram  # you can use this\n",
    "import matplotlib.pyplot as plt\n",
    "from matplotlib.lines import Line2D  # for when you create your own dendrogram"
   ]
  },
  {
   "cell_type": "code",
   "execution_count": 2,
   "metadata": {},
   "outputs": [],
   "source": [
    "X = np.array([[0., 1., 1., 10., 10.25, 11., 10., 10.25, 11.],\n",
    "                  [0., 0., 1.,  0.,   0.5,  0.,  5.,   5.5,  5.]]).T\n",
    "k = 3"
   ]
  },
  {
   "cell_type": "code",
   "execution_count": 3,
   "metadata": {},
   "outputs": [
    {
     "data": {
      "text/plain": [
       "array([[ 0.  ,  0.  ],\n",
       "       [ 1.  ,  0.  ],\n",
       "       [ 1.  ,  1.  ],\n",
       "       [10.  ,  0.  ],\n",
       "       [10.25,  0.5 ],\n",
       "       [11.  ,  0.  ],\n",
       "       [10.  ,  5.  ],\n",
       "       [10.25,  5.5 ],\n",
       "       [11.  ,  5.  ]])"
      ]
     },
     "execution_count": 3,
     "metadata": {},
     "output_type": "execute_result"
    }
   ],
   "source": [
    "X"
   ]
  },
  {
   "cell_type": "code",
   "execution_count": null,
   "metadata": {},
   "outputs": [],
   "source": []
  },
  {
   "cell_type": "code",
   "execution_count": 4,
   "metadata": {
    "scrolled": true
   },
   "outputs": [],
   "source": [
    "def kmeans(X, k, max_iter=100):\n",
    "    muselect = 0\n",
    "    mu = np.random.rand(k, len(X[0]))\n",
    "    if muselect == 1:\n",
    "        mins = np.min(X, axis=0)\n",
    "        maxs = np.max(X, axis=0)\n",
    "        mu = np.random.rand(k, len(X[0]))\n",
    "        mu += mins\n",
    "        mu *= maxs\n",
    "    elif muselect == 0:\n",
    "        X_shuffle = np.array(X)\n",
    "        np.random.shuffle(X_shuffle)\n",
    "        mu = X_shuffle[0:k]\n",
    "    r = np.empty(len(X))\n",
    "    r_new = np.ones(len(X))\n",
    "    iteration = 0\n",
    "    error=0.\n",
    "    while not np.array_equal(r,r_new) and iteration < max_iter:\n",
    "        error=0.\n",
    "        iteration+=1\n",
    "        print('Peforming iteration ' + str(iteration) + ':')\n",
    "        r = r_new\n",
    "        dis = (-2 * X @ mu.T + (np.sum(X ** 2, axis=1) + np.sum(mu ** 2, axis=1)[:, np.newaxis]).T)**0.5\n",
    "        r_new = np.argmin(dis, axis=1)\n",
    "        print('Changed cluster memberships: ' +  str(np.count_nonzero(r_new-r)) + ' datapoints')\n",
    "        for i in range(0, k):\n",
    "            if(len(np.where(r_new==i)[0])>0):\n",
    "                mu[i] = np.sum(X[np.where(r_new==i)], axis=0)/len(np.where(r_new==i)[0])\n",
    "                error += np.sum(dis[np.where(r_new==i),i])\n",
    "            else:\n",
    "                mu[i] = np.random.rand(len(mins))\n",
    "        print('Loss: ' + str(error))\n",
    "    return mu, r_new, error"
   ]
  },
  {
   "cell_type": "code",
   "execution_count": 5,
   "metadata": {},
   "outputs": [
    {
     "name": "stdout",
     "output_type": "stream",
     "text": [
      "Peforming iteration 1:\n",
      "Changed cluster memberships: 6 datapoints\n",
      "Loss: 17.065956088704933\n",
      "Peforming iteration 2:\n",
      "Changed cluster memberships: 3 datapoints\n",
      "Loss: 16.71115982552417\n",
      "Peforming iteration 3:\n",
      "Changed cluster memberships: 0 datapoints\n",
      "Loss: 4.818351614360072\n"
     ]
    }
   ],
   "source": [
    "mu, r, _ = kmeans(X, k=3)"
   ]
  },
  {
   "cell_type": "code",
   "execution_count": 6,
   "metadata": {},
   "outputs": [
    {
     "data": {
      "text/plain": [
       "array([[10.41666667,  5.16666667],\n",
       "       [ 0.66666667,  0.33333333],\n",
       "       [10.41666667,  0.16666667]])"
      ]
     },
     "execution_count": 6,
     "metadata": {},
     "output_type": "execute_result"
    }
   ],
   "source": [
    "mu"
   ]
  },
  {
   "cell_type": "code",
   "execution_count": 7,
   "metadata": {},
   "outputs": [
    {
     "data": {
      "text/plain": [
       "array([1, 1, 1, 2, 2, 2, 0, 0, 0])"
      ]
     },
     "execution_count": 7,
     "metadata": {},
     "output_type": "execute_result"
    }
   ],
   "source": [
    "r"
   ]
  },
  {
   "cell_type": "code",
   "execution_count": 218,
   "metadata": {},
   "outputs": [],
   "source": [
    "mus = np.array([[ 1., 1.], [10.41666667,  2.66666667], [ 0.5,         0.        ]])\n",
    "mus2 = np.array([[10.41666667,  5.16666667],\n",
    " [10.41666667,  0.16666667],\n",
    " [ 0.66666667,  0.33333333]])"
   ]
  },
  {
   "cell_type": "code",
   "execution_count": 216,
   "metadata": {},
   "outputs": [
    {
     "data": {
      "text/plain": [
       "array([[ 1.        ,  1.        ],\n",
       "       [10.41666667,  2.66666667],\n",
       "       [ 0.5       ,  0.        ]])"
      ]
     },
     "execution_count": 216,
     "metadata": {},
     "output_type": "execute_result"
    }
   ],
   "source": [
    "mus"
   ]
  },
  {
   "cell_type": "code",
   "execution_count": null,
   "metadata": {},
   "outputs": [],
   "source": []
  },
  {
   "cell_type": "code",
   "execution_count": 284,
   "metadata": {},
   "outputs": [
    {
     "data": {
      "image/png": "[encoded data removed]",
      "text/plain": [
       "<Figure size 432x288 with 1 Axes>"
      ]
     },
     "metadata": {
      "needs_background": "light"
     },
     "output_type": "display_data"
    }
   ],
   "source": [
    "plt.scatter(X.T[0], X.T[1])\n",
    "plt.scatter(mus.T[0], mus.T[1])\n",
    "#plt.scatter(mus2.T[0], mus2.T[1], c='violet')\n",
    "plt.show()"
   ]
  },
  {
   "cell_type": "code",
   "execution_count": 107,
   "metadata": {},
   "outputs": [],
   "source": [
    "\n",
    "dis = (-2 * X @ mu.T + (np.sum(X ** 2, axis=1) + np.sum(mu ** 2, axis=1)[:, np.newaxis]).T)**0.5\n",
    "r = np.argmin(dis, axis=1)\n",
    "mu_new = np.zeros((k, 2))\n",
    "for i in range(0, k):\n",
    "    mu_new[i] = np.sum(X[np.where(r==i)], axis=0)/len(np.where(r==i)[0])"
   ]
  },
  {
   "cell_type": "code",
   "execution_count": 106,
   "metadata": {},
   "outputs": [
    {
     "data": {
      "text/plain": [
       "array([[10.25240567,  1.23491774],\n",
       "       [10.52492282,  3.00431647],\n",
       "       [ 2.43779081,  4.49821649]])"
      ]
     },
     "execution_count": 106,
     "metadata": {},
     "output_type": "execute_result"
    }
   ],
   "source": [
    "mu, r, _ = imp.kmeans(self.X, k=3)"
   ]
  },
  {
   "cell_type": "code",
   "execution_count": 108,
   "metadata": {},
   "outputs": [
    {
     "data": {
      "text/plain": [
       "array([[10.41666667,  0.16666667],\n",
       "       [10.41666667,  5.16666667],\n",
       "       [ 0.5       ,  1.5       ]])"
      ]
     },
     "execution_count": 108,
     "metadata": {},
     "output_type": "execute_result"
    }
   ],
   "source": [
    "mu_new"
   ]
  },
  {
   "cell_type": "code",
   "execution_count": 84,
   "metadata": {},
   "outputs": [
    {
     "data": {
      "text/plain": [
       "6"
      ]
     },
     "execution_count": 84,
     "metadata": {},
     "output_type": "execute_result"
    }
   ],
   "source": [
    "len(np.where(r==0)[0])"
   ]
  },
  {
   "cell_type": "code",
   "execution_count": 95,
   "metadata": {},
   "outputs": [
    {
     "data": {
      "text/plain": [
       "array([[ 0.  ,  0.  ,  1.  ],\n",
       "       [ 1.  ,  0.  ,  1.  ],\n",
       "       [ 1.  ,  1.  ,  1.  ],\n",
       "       [10.  ,  0.  ,  0.  ],\n",
       "       [10.25,  0.5 ,  0.  ],\n",
       "       [11.  ,  0.  ,  0.  ],\n",
       "       [10.  ,  5.  ,  0.  ],\n",
       "       [10.25,  5.5 ,  0.  ],\n",
       "       [11.  ,  5.  ,  0.  ],\n",
       "       [ 0.  ,  5.  ,  2.  ]])"
      ]
     },
     "execution_count": 95,
     "metadata": {},
     "output_type": "execute_result"
    }
   ],
   "source": [
    "np.vstack([X.T, r]).T"
   ]
  },
  {
   "cell_type": "code",
   "execution_count": 109,
   "metadata": {},
   "outputs": [
    {
     "data": {
      "text/plain": [
       "array([2, 2, 2, 0, 0, 0, 1, 1, 1, 2])"
      ]
     },
     "execution_count": 109,
     "metadata": {},
     "output_type": "execute_result"
    }
   ],
   "source": [
    "r"
   ]
  },
  {
   "cell_type": "code",
   "execution_count": null,
   "metadata": {},
   "outputs": [],
   "source": [
    "k * d"
   ]
  }
 ],
 "metadata": {
  "kernelspec": {
   "display_name": "Python 3",
   "language": "python",
   "name": "python3"
  },
  "language_info": {
   "codemirror_mode": {
    "name": "ipython",
    "version": 3
   },
   "file_extension": ".py",
   "mimetype": "text/x-python",
   "name": "python",
   "nbconvert_exporter": "python",
   "pygments_lexer": "ipython3",
   "version": "3.6.9"
  }
 },
 "nbformat": 4,
 "nbformat_minor": 4
}
